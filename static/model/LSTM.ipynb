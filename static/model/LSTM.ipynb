{
  "cells": [
    {
      "cell_type": "code",
      "execution_count": 2,
      "metadata": {},
      "outputs": [
        {
          "name": "stdout",
          "output_type": "stream",
          "text": [
            "Collecting keras\n",
            "  Downloading keras-3.3.3-py3-none-any.whl.metadata (5.7 kB)\n",
            "Collecting absl-py (from keras)\n",
            "  Downloading absl_py-2.1.0-py3-none-any.whl.metadata (2.3 kB)\n",
            "Requirement already satisfied: numpy in /home/blackcait/.miniconda3/envs/pytorch_env/lib/python3.12/site-packages (from keras) (1.26.4)\n",
            "Collecting rich (from keras)\n",
            "  Downloading rich-13.7.1-py3-none-any.whl.metadata (18 kB)\n",
            "Collecting namex (from keras)\n",
            "  Downloading namex-0.0.8-py3-none-any.whl.metadata (246 bytes)\n",
            "Collecting h5py (from keras)\n",
            "  Downloading h5py-3.11.0-cp312-cp312-manylinux_2_17_x86_64.manylinux2014_x86_64.whl.metadata (2.5 kB)\n",
            "Collecting optree (from keras)\n",
            "  Downloading optree-0.11.0-cp312-cp312-manylinux_2_17_x86_64.manylinux2014_x86_64.whl.metadata (45 kB)\n",
            "\u001b[2K     \u001b[90m━━━━━━━━━━━━━━━━━━━━━━━━━━━━━━━━━━━━━━━\u001b[0m \u001b[32m45.4/45.4 kB\u001b[0m \u001b[31m806.8 kB/s\u001b[0m eta \u001b[36m0:00:00\u001b[0m \u001b[36m0:00:01\u001b[0m\n",
            "\u001b[?25hCollecting ml-dtypes (from keras)\n",
            "  Downloading ml_dtypes-0.4.0-cp312-cp312-manylinux_2_17_x86_64.manylinux2014_x86_64.whl.metadata (20 kB)\n",
            "Requirement already satisfied: typing-extensions>=4.0.0 in /home/blackcait/.miniconda3/envs/pytorch_env/lib/python3.12/site-packages (from optree->keras) (4.11.0)\n",
            "Collecting markdown-it-py>=2.2.0 (from rich->keras)\n",
            "  Downloading markdown_it_py-3.0.0-py3-none-any.whl.metadata (6.9 kB)\n",
            "Requirement already satisfied: pygments<3.0.0,>=2.13.0 in /home/blackcait/.miniconda3/envs/pytorch_env/lib/python3.12/site-packages (from rich->keras) (2.17.2)\n",
            "Collecting mdurl~=0.1 (from markdown-it-py>=2.2.0->rich->keras)\n",
            "  Downloading mdurl-0.1.2-py3-none-any.whl.metadata (1.6 kB)\n",
            "Downloading keras-3.3.3-py3-none-any.whl (1.1 MB)\n",
            "\u001b[2K   \u001b[90m━━━━━━━━━━━━━━━━━━━━━━━━━━━━━━━━━━━━━━━━\u001b[0m \u001b[32m1.1/1.1 MB\u001b[0m \u001b[31m1.6 MB/s\u001b[0m eta \u001b[36m0:00:00\u001b[0ma \u001b[36m0:00:01\u001b[0m\n",
            "\u001b[?25hDownloading absl_py-2.1.0-py3-none-any.whl (133 kB)\n",
            "\u001b[2K   \u001b[90m━━━━━━━━━━━━━━━━━━━━━━━━━━━━━━━━━━━━━━━━\u001b[0m \u001b[32m133.7/133.7 kB\u001b[0m \u001b[31m1.3 MB/s\u001b[0m eta \u001b[36m0:00:00\u001b[0m \u001b[36m0:00:01\u001b[0m\n",
            "\u001b[?25hDownloading h5py-3.11.0-cp312-cp312-manylinux_2_17_x86_64.manylinux2014_x86_64.whl (5.4 MB)\n",
            "\u001b[2K   \u001b[90m━━━━━━━━━━━━━━━━━━━━━━━━━━━━━━━━━━━━━━━━\u001b[0m \u001b[32m5.4/5.4 MB\u001b[0m \u001b[31m900.6 kB/s\u001b[0m eta \u001b[36m0:00:00\u001b[0m00:01\u001b[0m00:01\u001b[0m\n",
            "\u001b[?25hDownloading ml_dtypes-0.4.0-cp312-cp312-manylinux_2_17_x86_64.manylinux2014_x86_64.whl (2.2 MB)\n",
            "\u001b[2K   \u001b[90m━━━━━━━━━━━━━━━━━━━━━━━━━━━━━━━━━━━━━━━━\u001b[0m \u001b[32m2.2/2.2 MB\u001b[0m \u001b[31m1.0 MB/s\u001b[0m eta \u001b[36m0:00:00\u001b[0m00:01\u001b[0m00:01\u001b[0m0m\n",
            "\u001b[?25hDownloading namex-0.0.8-py3-none-any.whl (5.8 kB)\n",
            "Downloading optree-0.11.0-cp312-cp312-manylinux_2_17_x86_64.manylinux2014_x86_64.whl (308 kB)\n",
            "\u001b[2K   \u001b[90m━━━━━━━━━━━━━━━━━━━━━━━━━━━━━━━━━━━━━━━━\u001b[0m \u001b[32m308.3/308.3 kB\u001b[0m \u001b[31m1.4 MB/s\u001b[0m eta \u001b[36m0:00:00\u001b[0ma \u001b[36m0:00:01\u001b[0m\n",
            "\u001b[?25hDownloading rich-13.7.1-py3-none-any.whl (240 kB)\n",
            "\u001b[2K   \u001b[90m━━━━━━━━━━━━━━━━━━━━━━━━━━━━━━━━━━━━━━━\u001b[0m \u001b[32m240.7/240.7 kB\u001b[0m \u001b[31m866.9 kB/s\u001b[0m eta \u001b[36m0:00:00\u001b[0ma \u001b[36m0:00:01\u001b[0m\n",
            "\u001b[?25hDownloading markdown_it_py-3.0.0-py3-none-any.whl (87 kB)\n",
            "\u001b[2K   \u001b[90m━━━━━━━━━━━━━━━━━━━━━━━━━━━━━━━━━━━━━━━━\u001b[0m \u001b[32m87.5/87.5 kB\u001b[0m \u001b[31m427.4 kB/s\u001b[0m eta \u001b[36m0:00:00\u001b[0ma \u001b[36m0:00:01\u001b[0m\n",
            "\u001b[?25hDownloading mdurl-0.1.2-py3-none-any.whl (10.0 kB)\n",
            "Installing collected packages: namex, optree, ml-dtypes, mdurl, h5py, absl-py, markdown-it-py, rich, keras\n",
            "Successfully installed absl-py-2.1.0 h5py-3.11.0 keras-3.3.3 markdown-it-py-3.0.0 mdurl-0.1.2 ml-dtypes-0.4.0 namex-0.0.8 optree-0.11.0 rich-13.7.1\n",
            "Note: you may need to restart the kernel to use updated packages.\n"
          ]
        }
      ],
      "source": [
        "pip install keras"
      ]
    },
    {
      "cell_type": "code",
      "execution_count": 4,
      "metadata": {},
      "outputs": [
        {
          "name": "stdout",
          "output_type": "stream",
          "text": [
            "Collecting tensorflow\n",
            "  Downloading tensorflow-2.16.1-cp312-cp312-manylinux_2_17_x86_64.manylinux2014_x86_64.whl.metadata (4.3 kB)\n",
            "Requirement already satisfied: absl-py>=1.0.0 in /home/blackcait/.miniconda3/envs/pytorch_env/lib/python3.12/site-packages (from tensorflow) (2.1.0)\n",
            "Collecting astunparse>=1.6.0 (from tensorflow)\n",
            "  Downloading astunparse-1.6.3-py2.py3-none-any.whl.metadata (4.4 kB)\n",
            "Collecting flatbuffers>=23.5.26 (from tensorflow)\n",
            "  Downloading flatbuffers-24.3.25-py2.py3-none-any.whl.metadata (850 bytes)\n",
            "Collecting gast!=0.5.0,!=0.5.1,!=0.5.2,>=0.2.1 (from tensorflow)\n",
            "  Downloading gast-0.5.4-py3-none-any.whl.metadata (1.3 kB)\n",
            "Collecting google-pasta>=0.1.1 (from tensorflow)\n",
            "  Downloading google_pasta-0.2.0-py3-none-any.whl.metadata (814 bytes)\n",
            "Requirement already satisfied: h5py>=3.10.0 in /home/blackcait/.miniconda3/envs/pytorch_env/lib/python3.12/site-packages (from tensorflow) (3.11.0)\n",
            "Collecting libclang>=13.0.0 (from tensorflow)\n",
            "  Downloading libclang-18.1.1-py2.py3-none-manylinux2010_x86_64.whl.metadata (5.2 kB)\n",
            "Collecting ml-dtypes~=0.3.1 (from tensorflow)\n",
            "  Downloading ml_dtypes-0.3.2-cp312-cp312-manylinux_2_17_x86_64.manylinux2014_x86_64.whl.metadata (20 kB)\n",
            "Collecting opt-einsum>=2.3.2 (from tensorflow)\n",
            "  Downloading opt_einsum-3.3.0-py3-none-any.whl.metadata (6.5 kB)\n",
            "Requirement already satisfied: packaging in /home/blackcait/.miniconda3/envs/pytorch_env/lib/python3.12/site-packages (from tensorflow) (24.0)\n",
            "Collecting protobuf!=4.21.0,!=4.21.1,!=4.21.2,!=4.21.3,!=4.21.4,!=4.21.5,<5.0.0dev,>=3.20.3 (from tensorflow)\n",
            "  Downloading protobuf-4.25.3-cp37-abi3-manylinux2014_x86_64.whl.metadata (541 bytes)\n",
            "Requirement already satisfied: requests<3,>=2.21.0 in /home/blackcait/.miniconda3/envs/pytorch_env/lib/python3.12/site-packages (from tensorflow) (2.31.0)\n",
            "Requirement already satisfied: setuptools in /home/blackcait/.miniconda3/envs/pytorch_env/lib/python3.12/site-packages (from tensorflow) (68.2.2)\n",
            "Requirement already satisfied: six>=1.12.0 in /home/blackcait/.miniconda3/envs/pytorch_env/lib/python3.12/site-packages (from tensorflow) (1.16.0)\n",
            "Collecting termcolor>=1.1.0 (from tensorflow)\n",
            "  Downloading termcolor-2.4.0-py3-none-any.whl.metadata (6.1 kB)\n",
            "Requirement already satisfied: typing-extensions>=3.6.6 in /home/blackcait/.miniconda3/envs/pytorch_env/lib/python3.12/site-packages (from tensorflow) (4.11.0)\n",
            "Collecting wrapt>=1.11.0 (from tensorflow)\n",
            "  Downloading wrapt-1.16.0-cp312-cp312-manylinux_2_5_x86_64.manylinux1_x86_64.manylinux_2_17_x86_64.manylinux2014_x86_64.whl.metadata (6.6 kB)\n",
            "Collecting grpcio<2.0,>=1.24.3 (from tensorflow)\n",
            "  Downloading grpcio-1.64.0-cp312-cp312-manylinux_2_17_x86_64.manylinux2014_x86_64.whl.metadata (3.3 kB)\n",
            "Collecting tensorboard<2.17,>=2.16 (from tensorflow)\n",
            "  Downloading tensorboard-2.16.2-py3-none-any.whl.metadata (1.6 kB)\n",
            "Requirement already satisfied: keras>=3.0.0 in /home/blackcait/.miniconda3/envs/pytorch_env/lib/python3.12/site-packages (from tensorflow) (3.3.3)\n",
            "Requirement already satisfied: numpy<2.0.0,>=1.26.0 in /home/blackcait/.miniconda3/envs/pytorch_env/lib/python3.12/site-packages (from tensorflow) (1.26.4)\n",
            "Requirement already satisfied: wheel<1.0,>=0.23.0 in /home/blackcait/.miniconda3/envs/pytorch_env/lib/python3.12/site-packages (from astunparse>=1.6.0->tensorflow) (0.41.2)\n",
            "Requirement already satisfied: rich in /home/blackcait/.miniconda3/envs/pytorch_env/lib/python3.12/site-packages (from keras>=3.0.0->tensorflow) (13.7.1)\n",
            "Requirement already satisfied: namex in /home/blackcait/.miniconda3/envs/pytorch_env/lib/python3.12/site-packages (from keras>=3.0.0->tensorflow) (0.0.8)\n",
            "Requirement already satisfied: optree in /home/blackcait/.miniconda3/envs/pytorch_env/lib/python3.12/site-packages (from keras>=3.0.0->tensorflow) (0.11.0)\n",
            "Requirement already satisfied: charset-normalizer<4,>=2 in /home/blackcait/.miniconda3/envs/pytorch_env/lib/python3.12/site-packages (from requests<3,>=2.21.0->tensorflow) (3.3.2)\n",
            "Requirement already satisfied: idna<4,>=2.5 in /home/blackcait/.miniconda3/envs/pytorch_env/lib/python3.12/site-packages (from requests<3,>=2.21.0->tensorflow) (3.7)\n",
            "Requirement already satisfied: urllib3<3,>=1.21.1 in /home/blackcait/.miniconda3/envs/pytorch_env/lib/python3.12/site-packages (from requests<3,>=2.21.0->tensorflow) (1.26.18)\n",
            "Requirement already satisfied: certifi>=2017.4.17 in /home/blackcait/.miniconda3/envs/pytorch_env/lib/python3.12/site-packages (from requests<3,>=2.21.0->tensorflow) (2024.2.2)\n",
            "Collecting markdown>=2.6.8 (from tensorboard<2.17,>=2.16->tensorflow)\n",
            "  Downloading Markdown-3.6-py3-none-any.whl.metadata (7.0 kB)\n",
            "Collecting tensorboard-data-server<0.8.0,>=0.7.0 (from tensorboard<2.17,>=2.16->tensorflow)\n",
            "  Downloading tensorboard_data_server-0.7.2-py3-none-manylinux_2_31_x86_64.whl.metadata (1.1 kB)\n",
            "Requirement already satisfied: werkzeug>=1.0.1 in /home/blackcait/.miniconda3/envs/pytorch_env/lib/python3.12/site-packages (from tensorboard<2.17,>=2.16->tensorflow) (3.0.3)\n",
            "Requirement already satisfied: MarkupSafe>=2.1.1 in /home/blackcait/.miniconda3/envs/pytorch_env/lib/python3.12/site-packages (from werkzeug>=1.0.1->tensorboard<2.17,>=2.16->tensorflow) (2.1.5)\n",
            "Requirement already satisfied: markdown-it-py>=2.2.0 in /home/blackcait/.miniconda3/envs/pytorch_env/lib/python3.12/site-packages (from rich->keras>=3.0.0->tensorflow) (3.0.0)\n",
            "Requirement already satisfied: pygments<3.0.0,>=2.13.0 in /home/blackcait/.miniconda3/envs/pytorch_env/lib/python3.12/site-packages (from rich->keras>=3.0.0->tensorflow) (2.17.2)\n",
            "Requirement already satisfied: mdurl~=0.1 in /home/blackcait/.miniconda3/envs/pytorch_env/lib/python3.12/site-packages (from markdown-it-py>=2.2.0->rich->keras>=3.0.0->tensorflow) (0.1.2)\n",
            "Downloading tensorflow-2.16.1-cp312-cp312-manylinux_2_17_x86_64.manylinux2014_x86_64.whl (589.9 MB)\n",
            "\u001b[2K   \u001b[90m━━━━━━━━━━━━━━━━━━━━━━━━━━━━━━━━━━━━━━━━\u001b[0m \u001b[32m589.9/589.9 MB\u001b[0m \u001b[31m1.2 MB/s\u001b[0m eta \u001b[36m0:00:00\u001b[0m00:01\u001b[0m00:13\u001b[0mm\n",
            "\u001b[?25hDownloading astunparse-1.6.3-py2.py3-none-any.whl (12 kB)\n",
            "Downloading flatbuffers-24.3.25-py2.py3-none-any.whl (26 kB)\n",
            "Downloading gast-0.5.4-py3-none-any.whl (19 kB)\n",
            "Downloading google_pasta-0.2.0-py3-none-any.whl (57 kB)\n",
            "\u001b[2K   \u001b[90m━━━━━━━━━━━━━━━━━━━━━━━━━━━━━━━━━━━━━━━━\u001b[0m \u001b[32m57.5/57.5 kB\u001b[0m \u001b[31m2.3 MB/s\u001b[0m eta \u001b[36m0:00:00\u001b[0m\n",
            "\u001b[?25hDownloading grpcio-1.64.0-cp312-cp312-manylinux_2_17_x86_64.manylinux2014_x86_64.whl (5.6 MB)\n",
            "\u001b[2K   \u001b[90m━━━━━━━━━━━━━━━━━━━━━━━━━━━━━━━━━━━━━━━━\u001b[0m \u001b[32m5.6/5.6 MB\u001b[0m \u001b[31m1.4 MB/s\u001b[0m eta \u001b[36m0:00:00\u001b[0m00:01\u001b[0m00:01\u001b[0m\n",
            "\u001b[?25hDownloading libclang-18.1.1-py2.py3-none-manylinux2010_x86_64.whl (24.5 MB)\n",
            "\u001b[2K   \u001b[90m━━━━━━━━━━━━━━━━━━━━━━━━━━━━━━━━━━━━━━━━\u001b[0m \u001b[32m24.5/24.5 MB\u001b[0m \u001b[31m1.3 MB/s\u001b[0m eta \u001b[36m0:00:00\u001b[0m00:01\u001b[0m00:01\u001b[0m\n",
            "\u001b[?25hDownloading ml_dtypes-0.3.2-cp312-cp312-manylinux_2_17_x86_64.manylinux2014_x86_64.whl (2.2 MB)\n",
            "\u001b[2K   \u001b[90m━━━━━━━━━━━━━━━━━━━━━━━━━━━━━━━━━━━━━━━━\u001b[0m \u001b[32m2.2/2.2 MB\u001b[0m \u001b[31m1.3 MB/s\u001b[0m eta \u001b[36m0:00:00\u001b[0m00:01\u001b[0m00:01\u001b[0m\n",
            "\u001b[?25hDownloading opt_einsum-3.3.0-py3-none-any.whl (65 kB)\n",
            "\u001b[2K   \u001b[90m━━━━━━━━━━━━━━━━━━━━━━━━━━━━━━━━━━━━━━━━\u001b[0m \u001b[32m65.5/65.5 kB\u001b[0m \u001b[31m1.4 MB/s\u001b[0m eta \u001b[36m0:00:00\u001b[0ma \u001b[36m0:00:01\u001b[0m\n",
            "\u001b[?25hDownloading protobuf-4.25.3-cp37-abi3-manylinux2014_x86_64.whl (294 kB)\n",
            "\u001b[2K   \u001b[90m━━━━━━━━━━━━━━━━━━━━━━━━━━━━━━━━━━━━━━━━\u001b[0m \u001b[32m294.6/294.6 kB\u001b[0m \u001b[31m1.5 MB/s\u001b[0m eta \u001b[36m0:00:00\u001b[0ma \u001b[36m0:00:01\u001b[0m\n",
            "\u001b[?25hDownloading tensorboard-2.16.2-py3-none-any.whl (5.5 MB)\n",
            "\u001b[2K   \u001b[90m━━━━━━━━━━━━━━━━━━━━━━━━━━━━━━━━━━━━━━━━\u001b[0m \u001b[32m5.5/5.5 MB\u001b[0m \u001b[31m1.3 MB/s\u001b[0m eta \u001b[36m0:00:00\u001b[0m00:01\u001b[0m00:01\u001b[0m\n",
            "\u001b[?25hDownloading termcolor-2.4.0-py3-none-any.whl (7.7 kB)\n",
            "Downloading wrapt-1.16.0-cp312-cp312-manylinux_2_5_x86_64.manylinux1_x86_64.manylinux_2_17_x86_64.manylinux2014_x86_64.whl (87 kB)\n",
            "\u001b[2K   \u001b[90m━━━━━━━━━━━━━━━━━━━━━━━━━━━━━━━━━━━━━━━━\u001b[0m \u001b[32m87.3/87.3 kB\u001b[0m \u001b[31m489.1 kB/s\u001b[0m eta \u001b[36m0:00:00\u001b[0ma \u001b[36m0:00:01\u001b[0m\n",
            "\u001b[?25hDownloading Markdown-3.6-py3-none-any.whl (105 kB)\n",
            "\u001b[2K   \u001b[90m━━━━━━━━━━━━━━━━━━━━━━━━━━━━━━━━━━━━━━━\u001b[0m \u001b[32m105.4/105.4 kB\u001b[0m \u001b[31m558.3 kB/s\u001b[0m eta \u001b[36m0:00:00\u001b[0ma \u001b[36m0:00:01\u001b[0m\n",
            "\u001b[?25hDownloading tensorboard_data_server-0.7.2-py3-none-manylinux_2_31_x86_64.whl (6.6 MB)\n",
            "\u001b[2K   \u001b[90m━━━━━━━━━━━━━━━━━━━━━━━━━━━━━━━━━━━━━━━━\u001b[0m \u001b[32m6.6/6.6 MB\u001b[0m \u001b[31m1.0 MB/s\u001b[0m eta \u001b[36m0:00:00\u001b[0m00:01\u001b[0m0m00:01\u001b[0m\n",
            "\u001b[?25hInstalling collected packages: libclang, flatbuffers, wrapt, termcolor, tensorboard-data-server, protobuf, opt-einsum, ml-dtypes, markdown, grpcio, google-pasta, gast, astunparse, tensorboard, tensorflow\n",
            "  Attempting uninstall: ml-dtypes\n",
            "    Found existing installation: ml-dtypes 0.4.0\n",
            "    Uninstalling ml-dtypes-0.4.0:\n",
            "      Successfully uninstalled ml-dtypes-0.4.0\n",
            "Successfully installed astunparse-1.6.3 flatbuffers-24.3.25 gast-0.5.4 google-pasta-0.2.0 grpcio-1.64.0 libclang-18.1.1 markdown-3.6 ml-dtypes-0.3.2 opt-einsum-3.3.0 protobuf-4.25.3 tensorboard-2.16.2 tensorboard-data-server-0.7.2 tensorflow-2.16.1 termcolor-2.4.0 wrapt-1.16.0\n",
            "Note: you may need to restart the kernel to use updated packages.\n"
          ]
        }
      ],
      "source": [
        "pip install tensorflow"
      ]
    },
    {
      "cell_type": "code",
      "execution_count": 211,
      "metadata": {
        "id": "4K4J9NzQKyjb"
      },
      "outputs": [],
      "source": [
        "#Prepare and process data\n",
        "import math\n",
        "import pandas as pd #read data file csv\n",
        "import matplotlib.pyplot as plt #draw chart\n",
        "import matplotlib.ticker as ticker #Format\n",
        "import numpy as np #data processing\n",
        "from keras.callbacks import ModelCheckpoint #keep good training\n",
        "from tensorflow.keras.models import load_model #download model\n",
        "from sklearn.preprocessing import MinMaxScaler #normalize data 0->1\n",
        "#Training, model building\n",
        "from keras.models import Sequential #input\n",
        "from keras.layers import Dropout #avoid overfitting\n",
        "from keras.layers import LSTM #dependent learning\n",
        "from keras.layers import Dense #output\n",
        "from tensorflow.keras.layers import BatchNormalization\n",
        "from tensorflow.keras import regularizers\n",
        "# from keras import regularizers\n",
        "\n",
        "\n",
        "#Phân tích chỉ số\n",
        "from sklearn.metrics import r2_score #measure suitability\n",
        "from sklearn.metrics import mean_squared_error #measure MSE and RMSE = sqrt(MSE)\n",
        "from sklearn. metrics import mean_absolute_error #measure mean absolute error\n",
        "from sklearn.metrics import mean_absolute_percentage_error #measure the mean percent absolute error"
      ]
    },
    {
      "cell_type": "code",
      "execution_count": 212,
      "metadata": {
        "colab": {
          "base_uri": "https://localhost:8080/",
          "height": 423
        },
        "id": "pbIkUprKX990",
        "outputId": "8850d222-1494-4244-ae8b-e8762ea1bd84"
      },
      "outputs": [
        {
          "data": {
            "text/html": [
              "<div>\n",
              "<style scoped>\n",
              "    .dataframe tbody tr th:only-of-type {\n",
              "        vertical-align: middle;\n",
              "    }\n",
              "\n",
              "    .dataframe tbody tr th {\n",
              "        vertical-align: top;\n",
              "    }\n",
              "\n",
              "    .dataframe thead th {\n",
              "        text-align: right;\n",
              "    }\n",
              "</style>\n",
              "<table border=\"1\" class=\"dataframe\">\n",
              "  <thead>\n",
              "    <tr style=\"text-align: right;\">\n",
              "      <th></th>\n",
              "      <th>datetime</th>\n",
              "      <th>temp</th>\n",
              "      <th>feelslike</th>\n",
              "      <th>dew</th>\n",
              "      <th>humidity</th>\n",
              "      <th>windgust</th>\n",
              "      <th>windspeed</th>\n",
              "      <th>winddir</th>\n",
              "      <th>sealevelpressure</th>\n",
              "      <th>cloudcover</th>\n",
              "      <th>visibility</th>\n",
              "      <th>solarradiation</th>\n",
              "      <th>solarenergy</th>\n",
              "      <th>uvindex</th>\n",
              "      <th>conditions</th>\n",
              "      <th>conditions_encoded</th>\n",
              "    </tr>\n",
              "  </thead>\n",
              "  <tbody>\n",
              "    <tr>\n",
              "      <th>0</th>\n",
              "      <td>2022-05-01T00:00:00</td>\n",
              "      <td>26.0</td>\n",
              "      <td>26.0</td>\n",
              "      <td>26.0</td>\n",
              "      <td>100.00</td>\n",
              "      <td>22.0</td>\n",
              "      <td>3.6</td>\n",
              "      <td>128.6</td>\n",
              "      <td>1007.0</td>\n",
              "      <td>50.0</td>\n",
              "      <td>10.0</td>\n",
              "      <td>0</td>\n",
              "      <td>0.0</td>\n",
              "      <td>0</td>\n",
              "      <td>Partially cloudy</td>\n",
              "      <td>2</td>\n",
              "    </tr>\n",
              "    <tr>\n",
              "      <th>1</th>\n",
              "      <td>2022-05-01T01:00:00</td>\n",
              "      <td>26.1</td>\n",
              "      <td>26.1</td>\n",
              "      <td>26.0</td>\n",
              "      <td>99.34</td>\n",
              "      <td>15.5</td>\n",
              "      <td>1.4</td>\n",
              "      <td>128.6</td>\n",
              "      <td>1007.0</td>\n",
              "      <td>52.8</td>\n",
              "      <td>10.9</td>\n",
              "      <td>0</td>\n",
              "      <td>0.0</td>\n",
              "      <td>0</td>\n",
              "      <td>Partially cloudy</td>\n",
              "      <td>2</td>\n",
              "    </tr>\n",
              "    <tr>\n",
              "      <th>2</th>\n",
              "      <td>2022-05-01T02:00:00</td>\n",
              "      <td>26.0</td>\n",
              "      <td>26.0</td>\n",
              "      <td>26.0</td>\n",
              "      <td>100.00</td>\n",
              "      <td>7.9</td>\n",
              "      <td>3.6</td>\n",
              "      <td>350.0</td>\n",
              "      <td>1006.0</td>\n",
              "      <td>50.0</td>\n",
              "      <td>7.0</td>\n",
              "      <td>0</td>\n",
              "      <td>0.0</td>\n",
              "      <td>0</td>\n",
              "      <td>Partially cloudy</td>\n",
              "      <td>2</td>\n",
              "    </tr>\n",
              "    <tr>\n",
              "      <th>3</th>\n",
              "      <td>2022-05-01T03:00:00</td>\n",
              "      <td>26.0</td>\n",
              "      <td>26.0</td>\n",
              "      <td>26.0</td>\n",
              "      <td>100.00</td>\n",
              "      <td>9.7</td>\n",
              "      <td>1.8</td>\n",
              "      <td>310.0</td>\n",
              "      <td>1006.0</td>\n",
              "      <td>50.0</td>\n",
              "      <td>7.0</td>\n",
              "      <td>0</td>\n",
              "      <td>0.0</td>\n",
              "      <td>0</td>\n",
              "      <td>Partially cloudy</td>\n",
              "      <td>2</td>\n",
              "    </tr>\n",
              "    <tr>\n",
              "      <th>4</th>\n",
              "      <td>2022-05-01T04:00:00</td>\n",
              "      <td>26.0</td>\n",
              "      <td>26.0</td>\n",
              "      <td>25.1</td>\n",
              "      <td>94.39</td>\n",
              "      <td>11.2</td>\n",
              "      <td>1.4</td>\n",
              "      <td>30.0</td>\n",
              "      <td>1005.1</td>\n",
              "      <td>53.7</td>\n",
              "      <td>8.2</td>\n",
              "      <td>0</td>\n",
              "      <td>0.0</td>\n",
              "      <td>0</td>\n",
              "      <td>Partially cloudy</td>\n",
              "      <td>2</td>\n",
              "    </tr>\n",
              "    <tr>\n",
              "      <th>...</th>\n",
              "      <td>...</td>\n",
              "      <td>...</td>\n",
              "      <td>...</td>\n",
              "      <td>...</td>\n",
              "      <td>...</td>\n",
              "      <td>...</td>\n",
              "      <td>...</td>\n",
              "      <td>...</td>\n",
              "      <td>...</td>\n",
              "      <td>...</td>\n",
              "      <td>...</td>\n",
              "      <td>...</td>\n",
              "      <td>...</td>\n",
              "      <td>...</td>\n",
              "      <td>...</td>\n",
              "      <td>...</td>\n",
              "    </tr>\n",
              "    <tr>\n",
              "      <th>18187</th>\n",
              "      <td>2024-05-27T19:00:00</td>\n",
              "      <td>29.0</td>\n",
              "      <td>38.0</td>\n",
              "      <td>28.0</td>\n",
              "      <td>94.35</td>\n",
              "      <td>16.9</td>\n",
              "      <td>18.4</td>\n",
              "      <td>180.0</td>\n",
              "      <td>1006.0</td>\n",
              "      <td>50.0</td>\n",
              "      <td>10.0</td>\n",
              "      <td>0</td>\n",
              "      <td>0.0</td>\n",
              "      <td>0</td>\n",
              "      <td>Partially cloudy</td>\n",
              "      <td>2</td>\n",
              "    </tr>\n",
              "    <tr>\n",
              "      <th>18188</th>\n",
              "      <td>2024-05-27T20:00:00</td>\n",
              "      <td>29.0</td>\n",
              "      <td>36.7</td>\n",
              "      <td>27.0</td>\n",
              "      <td>88.99</td>\n",
              "      <td>17.3</td>\n",
              "      <td>5.4</td>\n",
              "      <td>220.0</td>\n",
              "      <td>1007.0</td>\n",
              "      <td>50.0</td>\n",
              "      <td>10.0</td>\n",
              "      <td>0</td>\n",
              "      <td>0.0</td>\n",
              "      <td>0</td>\n",
              "      <td>Partially cloudy</td>\n",
              "      <td>2</td>\n",
              "    </tr>\n",
              "    <tr>\n",
              "      <th>18189</th>\n",
              "      <td>2024-05-27T21:00:00</td>\n",
              "      <td>29.0</td>\n",
              "      <td>36.7</td>\n",
              "      <td>27.0</td>\n",
              "      <td>88.99</td>\n",
              "      <td>23.8</td>\n",
              "      <td>14.8</td>\n",
              "      <td>210.0</td>\n",
              "      <td>1007.0</td>\n",
              "      <td>50.0</td>\n",
              "      <td>10.0</td>\n",
              "      <td>0</td>\n",
              "      <td>0.0</td>\n",
              "      <td>0</td>\n",
              "      <td>Rain, Partially cloudy</td>\n",
              "      <td>5</td>\n",
              "    </tr>\n",
              "    <tr>\n",
              "      <th>18190</th>\n",
              "      <td>2024-05-27T22:00:00</td>\n",
              "      <td>29.0</td>\n",
              "      <td>36.7</td>\n",
              "      <td>27.0</td>\n",
              "      <td>88.99</td>\n",
              "      <td>26.3</td>\n",
              "      <td>11.2</td>\n",
              "      <td>210.0</td>\n",
              "      <td>1008.0</td>\n",
              "      <td>50.0</td>\n",
              "      <td>10.0</td>\n",
              "      <td>0</td>\n",
              "      <td>0.0</td>\n",
              "      <td>0</td>\n",
              "      <td>Rain, Partially cloudy</td>\n",
              "      <td>5</td>\n",
              "    </tr>\n",
              "    <tr>\n",
              "      <th>18191</th>\n",
              "      <td>2024-05-27T23:00:00</td>\n",
              "      <td>29.0</td>\n",
              "      <td>36.7</td>\n",
              "      <td>27.0</td>\n",
              "      <td>88.99</td>\n",
              "      <td>24.8</td>\n",
              "      <td>14.8</td>\n",
              "      <td>220.0</td>\n",
              "      <td>1008.0</td>\n",
              "      <td>88.0</td>\n",
              "      <td>10.0</td>\n",
              "      <td>0</td>\n",
              "      <td>0.0</td>\n",
              "      <td>0</td>\n",
              "      <td>Rain, Partially cloudy</td>\n",
              "      <td>5</td>\n",
              "    </tr>\n",
              "  </tbody>\n",
              "</table>\n",
              "<p>18192 rows × 16 columns</p>\n",
              "</div>"
            ],
            "text/plain": [
              "                  datetime  temp  feelslike   dew  humidity  windgust  \\\n",
              "0      2022-05-01T00:00:00  26.0       26.0  26.0    100.00      22.0   \n",
              "1      2022-05-01T01:00:00  26.1       26.1  26.0     99.34      15.5   \n",
              "2      2022-05-01T02:00:00  26.0       26.0  26.0    100.00       7.9   \n",
              "3      2022-05-01T03:00:00  26.0       26.0  26.0    100.00       9.7   \n",
              "4      2022-05-01T04:00:00  26.0       26.0  25.1     94.39      11.2   \n",
              "...                    ...   ...        ...   ...       ...       ...   \n",
              "18187  2024-05-27T19:00:00  29.0       38.0  28.0     94.35      16.9   \n",
              "18188  2024-05-27T20:00:00  29.0       36.7  27.0     88.99      17.3   \n",
              "18189  2024-05-27T21:00:00  29.0       36.7  27.0     88.99      23.8   \n",
              "18190  2024-05-27T22:00:00  29.0       36.7  27.0     88.99      26.3   \n",
              "18191  2024-05-27T23:00:00  29.0       36.7  27.0     88.99      24.8   \n",
              "\n",
              "       windspeed  winddir  sealevelpressure  cloudcover  visibility  \\\n",
              "0            3.6    128.6            1007.0        50.0        10.0   \n",
              "1            1.4    128.6            1007.0        52.8        10.9   \n",
              "2            3.6    350.0            1006.0        50.0         7.0   \n",
              "3            1.8    310.0            1006.0        50.0         7.0   \n",
              "4            1.4     30.0            1005.1        53.7         8.2   \n",
              "...          ...      ...               ...         ...         ...   \n",
              "18187       18.4    180.0            1006.0        50.0        10.0   \n",
              "18188        5.4    220.0            1007.0        50.0        10.0   \n",
              "18189       14.8    210.0            1007.0        50.0        10.0   \n",
              "18190       11.2    210.0            1008.0        50.0        10.0   \n",
              "18191       14.8    220.0            1008.0        88.0        10.0   \n",
              "\n",
              "       solarradiation  solarenergy  uvindex              conditions  \\\n",
              "0                   0          0.0        0        Partially cloudy   \n",
              "1                   0          0.0        0        Partially cloudy   \n",
              "2                   0          0.0        0        Partially cloudy   \n",
              "3                   0          0.0        0        Partially cloudy   \n",
              "4                   0          0.0        0        Partially cloudy   \n",
              "...               ...          ...      ...                     ...   \n",
              "18187               0          0.0        0        Partially cloudy   \n",
              "18188               0          0.0        0        Partially cloudy   \n",
              "18189               0          0.0        0  Rain, Partially cloudy   \n",
              "18190               0          0.0        0  Rain, Partially cloudy   \n",
              "18191               0          0.0        0  Rain, Partially cloudy   \n",
              "\n",
              "       conditions_encoded  \n",
              "0                       2  \n",
              "1                       2  \n",
              "2                       2  \n",
              "3                       2  \n",
              "4                       2  \n",
              "...                   ...  \n",
              "18187                   2  \n",
              "18188                   2  \n",
              "18189                   5  \n",
              "18190                   5  \n",
              "18191                   5  \n",
              "\n",
              "[18192 rows x 16 columns]"
            ]
          },
          "execution_count": 212,
          "metadata": {},
          "output_type": "execute_result"
        }
      ],
      "source": [
        "df=pd.read_csv('../assets/weather_hours_encoded.csv')\n",
        "df"
      ]
    },
    {
      "cell_type": "code",
      "execution_count": 213,
      "metadata": {},
      "outputs": [],
      "source": [
        "df.drop([\"conditions\"], axis=1, inplace=True)"
      ]
    },
    {
      "cell_type": "code",
      "execution_count": 214,
      "metadata": {},
      "outputs": [
        {
          "data": {
            "text/html": [
              "<div>\n",
              "<style scoped>\n",
              "    .dataframe tbody tr th:only-of-type {\n",
              "        vertical-align: middle;\n",
              "    }\n",
              "\n",
              "    .dataframe tbody tr th {\n",
              "        vertical-align: top;\n",
              "    }\n",
              "\n",
              "    .dataframe thead th {\n",
              "        text-align: right;\n",
              "    }\n",
              "</style>\n",
              "<table border=\"1\" class=\"dataframe\">\n",
              "  <thead>\n",
              "    <tr style=\"text-align: right;\">\n",
              "      <th></th>\n",
              "      <th>datetime</th>\n",
              "      <th>temp</th>\n",
              "      <th>feelslike</th>\n",
              "      <th>dew</th>\n",
              "      <th>humidity</th>\n",
              "      <th>windgust</th>\n",
              "      <th>windspeed</th>\n",
              "      <th>winddir</th>\n",
              "      <th>sealevelpressure</th>\n",
              "      <th>cloudcover</th>\n",
              "      <th>visibility</th>\n",
              "      <th>solarradiation</th>\n",
              "      <th>solarenergy</th>\n",
              "      <th>uvindex</th>\n",
              "      <th>conditions_encoded</th>\n",
              "    </tr>\n",
              "  </thead>\n",
              "  <tbody>\n",
              "    <tr>\n",
              "      <th>0</th>\n",
              "      <td>2022-05-01T00:00:00</td>\n",
              "      <td>26.0</td>\n",
              "      <td>26.0</td>\n",
              "      <td>26.0</td>\n",
              "      <td>100.00</td>\n",
              "      <td>22.0</td>\n",
              "      <td>3.6</td>\n",
              "      <td>128.6</td>\n",
              "      <td>1007.0</td>\n",
              "      <td>50.0</td>\n",
              "      <td>10.0</td>\n",
              "      <td>0</td>\n",
              "      <td>0.0</td>\n",
              "      <td>0</td>\n",
              "      <td>2</td>\n",
              "    </tr>\n",
              "    <tr>\n",
              "      <th>1</th>\n",
              "      <td>2022-05-01T01:00:00</td>\n",
              "      <td>26.1</td>\n",
              "      <td>26.1</td>\n",
              "      <td>26.0</td>\n",
              "      <td>99.34</td>\n",
              "      <td>15.5</td>\n",
              "      <td>1.4</td>\n",
              "      <td>128.6</td>\n",
              "      <td>1007.0</td>\n",
              "      <td>52.8</td>\n",
              "      <td>10.9</td>\n",
              "      <td>0</td>\n",
              "      <td>0.0</td>\n",
              "      <td>0</td>\n",
              "      <td>2</td>\n",
              "    </tr>\n",
              "    <tr>\n",
              "      <th>2</th>\n",
              "      <td>2022-05-01T02:00:00</td>\n",
              "      <td>26.0</td>\n",
              "      <td>26.0</td>\n",
              "      <td>26.0</td>\n",
              "      <td>100.00</td>\n",
              "      <td>7.9</td>\n",
              "      <td>3.6</td>\n",
              "      <td>350.0</td>\n",
              "      <td>1006.0</td>\n",
              "      <td>50.0</td>\n",
              "      <td>7.0</td>\n",
              "      <td>0</td>\n",
              "      <td>0.0</td>\n",
              "      <td>0</td>\n",
              "      <td>2</td>\n",
              "    </tr>\n",
              "    <tr>\n",
              "      <th>3</th>\n",
              "      <td>2022-05-01T03:00:00</td>\n",
              "      <td>26.0</td>\n",
              "      <td>26.0</td>\n",
              "      <td>26.0</td>\n",
              "      <td>100.00</td>\n",
              "      <td>9.7</td>\n",
              "      <td>1.8</td>\n",
              "      <td>310.0</td>\n",
              "      <td>1006.0</td>\n",
              "      <td>50.0</td>\n",
              "      <td>7.0</td>\n",
              "      <td>0</td>\n",
              "      <td>0.0</td>\n",
              "      <td>0</td>\n",
              "      <td>2</td>\n",
              "    </tr>\n",
              "    <tr>\n",
              "      <th>4</th>\n",
              "      <td>2022-05-01T04:00:00</td>\n",
              "      <td>26.0</td>\n",
              "      <td>26.0</td>\n",
              "      <td>25.1</td>\n",
              "      <td>94.39</td>\n",
              "      <td>11.2</td>\n",
              "      <td>1.4</td>\n",
              "      <td>30.0</td>\n",
              "      <td>1005.1</td>\n",
              "      <td>53.7</td>\n",
              "      <td>8.2</td>\n",
              "      <td>0</td>\n",
              "      <td>0.0</td>\n",
              "      <td>0</td>\n",
              "      <td>2</td>\n",
              "    </tr>\n",
              "    <tr>\n",
              "      <th>...</th>\n",
              "      <td>...</td>\n",
              "      <td>...</td>\n",
              "      <td>...</td>\n",
              "      <td>...</td>\n",
              "      <td>...</td>\n",
              "      <td>...</td>\n",
              "      <td>...</td>\n",
              "      <td>...</td>\n",
              "      <td>...</td>\n",
              "      <td>...</td>\n",
              "      <td>...</td>\n",
              "      <td>...</td>\n",
              "      <td>...</td>\n",
              "      <td>...</td>\n",
              "      <td>...</td>\n",
              "    </tr>\n",
              "    <tr>\n",
              "      <th>18187</th>\n",
              "      <td>2024-05-27T19:00:00</td>\n",
              "      <td>29.0</td>\n",
              "      <td>38.0</td>\n",
              "      <td>28.0</td>\n",
              "      <td>94.35</td>\n",
              "      <td>16.9</td>\n",
              "      <td>18.4</td>\n",
              "      <td>180.0</td>\n",
              "      <td>1006.0</td>\n",
              "      <td>50.0</td>\n",
              "      <td>10.0</td>\n",
              "      <td>0</td>\n",
              "      <td>0.0</td>\n",
              "      <td>0</td>\n",
              "      <td>2</td>\n",
              "    </tr>\n",
              "    <tr>\n",
              "      <th>18188</th>\n",
              "      <td>2024-05-27T20:00:00</td>\n",
              "      <td>29.0</td>\n",
              "      <td>36.7</td>\n",
              "      <td>27.0</td>\n",
              "      <td>88.99</td>\n",
              "      <td>17.3</td>\n",
              "      <td>5.4</td>\n",
              "      <td>220.0</td>\n",
              "      <td>1007.0</td>\n",
              "      <td>50.0</td>\n",
              "      <td>10.0</td>\n",
              "      <td>0</td>\n",
              "      <td>0.0</td>\n",
              "      <td>0</td>\n",
              "      <td>2</td>\n",
              "    </tr>\n",
              "    <tr>\n",
              "      <th>18189</th>\n",
              "      <td>2024-05-27T21:00:00</td>\n",
              "      <td>29.0</td>\n",
              "      <td>36.7</td>\n",
              "      <td>27.0</td>\n",
              "      <td>88.99</td>\n",
              "      <td>23.8</td>\n",
              "      <td>14.8</td>\n",
              "      <td>210.0</td>\n",
              "      <td>1007.0</td>\n",
              "      <td>50.0</td>\n",
              "      <td>10.0</td>\n",
              "      <td>0</td>\n",
              "      <td>0.0</td>\n",
              "      <td>0</td>\n",
              "      <td>5</td>\n",
              "    </tr>\n",
              "    <tr>\n",
              "      <th>18190</th>\n",
              "      <td>2024-05-27T22:00:00</td>\n",
              "      <td>29.0</td>\n",
              "      <td>36.7</td>\n",
              "      <td>27.0</td>\n",
              "      <td>88.99</td>\n",
              "      <td>26.3</td>\n",
              "      <td>11.2</td>\n",
              "      <td>210.0</td>\n",
              "      <td>1008.0</td>\n",
              "      <td>50.0</td>\n",
              "      <td>10.0</td>\n",
              "      <td>0</td>\n",
              "      <td>0.0</td>\n",
              "      <td>0</td>\n",
              "      <td>5</td>\n",
              "    </tr>\n",
              "    <tr>\n",
              "      <th>18191</th>\n",
              "      <td>2024-05-27T23:00:00</td>\n",
              "      <td>29.0</td>\n",
              "      <td>36.7</td>\n",
              "      <td>27.0</td>\n",
              "      <td>88.99</td>\n",
              "      <td>24.8</td>\n",
              "      <td>14.8</td>\n",
              "      <td>220.0</td>\n",
              "      <td>1008.0</td>\n",
              "      <td>88.0</td>\n",
              "      <td>10.0</td>\n",
              "      <td>0</td>\n",
              "      <td>0.0</td>\n",
              "      <td>0</td>\n",
              "      <td>5</td>\n",
              "    </tr>\n",
              "  </tbody>\n",
              "</table>\n",
              "<p>18192 rows × 15 columns</p>\n",
              "</div>"
            ],
            "text/plain": [
              "                  datetime  temp  feelslike   dew  humidity  windgust  \\\n",
              "0      2022-05-01T00:00:00  26.0       26.0  26.0    100.00      22.0   \n",
              "1      2022-05-01T01:00:00  26.1       26.1  26.0     99.34      15.5   \n",
              "2      2022-05-01T02:00:00  26.0       26.0  26.0    100.00       7.9   \n",
              "3      2022-05-01T03:00:00  26.0       26.0  26.0    100.00       9.7   \n",
              "4      2022-05-01T04:00:00  26.0       26.0  25.1     94.39      11.2   \n",
              "...                    ...   ...        ...   ...       ...       ...   \n",
              "18187  2024-05-27T19:00:00  29.0       38.0  28.0     94.35      16.9   \n",
              "18188  2024-05-27T20:00:00  29.0       36.7  27.0     88.99      17.3   \n",
              "18189  2024-05-27T21:00:00  29.0       36.7  27.0     88.99      23.8   \n",
              "18190  2024-05-27T22:00:00  29.0       36.7  27.0     88.99      26.3   \n",
              "18191  2024-05-27T23:00:00  29.0       36.7  27.0     88.99      24.8   \n",
              "\n",
              "       windspeed  winddir  sealevelpressure  cloudcover  visibility  \\\n",
              "0            3.6    128.6            1007.0        50.0        10.0   \n",
              "1            1.4    128.6            1007.0        52.8        10.9   \n",
              "2            3.6    350.0            1006.0        50.0         7.0   \n",
              "3            1.8    310.0            1006.0        50.0         7.0   \n",
              "4            1.4     30.0            1005.1        53.7         8.2   \n",
              "...          ...      ...               ...         ...         ...   \n",
              "18187       18.4    180.0            1006.0        50.0        10.0   \n",
              "18188        5.4    220.0            1007.0        50.0        10.0   \n",
              "18189       14.8    210.0            1007.0        50.0        10.0   \n",
              "18190       11.2    210.0            1008.0        50.0        10.0   \n",
              "18191       14.8    220.0            1008.0        88.0        10.0   \n",
              "\n",
              "       solarradiation  solarenergy  uvindex  conditions_encoded  \n",
              "0                   0          0.0        0                   2  \n",
              "1                   0          0.0        0                   2  \n",
              "2                   0          0.0        0                   2  \n",
              "3                   0          0.0        0                   2  \n",
              "4                   0          0.0        0                   2  \n",
              "...               ...          ...      ...                 ...  \n",
              "18187               0          0.0        0                   2  \n",
              "18188               0          0.0        0                   2  \n",
              "18189               0          0.0        0                   5  \n",
              "18190               0          0.0        0                   5  \n",
              "18191               0          0.0        0                   5  \n",
              "\n",
              "[18192 rows x 15 columns]"
            ]
          },
          "execution_count": 214,
          "metadata": {},
          "output_type": "execute_result"
        }
      ],
      "source": [
        "df"
      ]
    },
    {
      "cell_type": "code",
      "execution_count": 215,
      "metadata": {
        "colab": {
          "base_uri": "https://localhost:8080/"
        },
        "id": "ljxHUGLU_KnK",
        "outputId": "3f3d67fd-9ef9-4de8-9a23-6d4b94f18cd9"
      },
      "outputs": [
        {
          "name": "stdout",
          "output_type": "stream",
          "text": [
            "<class 'pandas.core.frame.DataFrame'>\n",
            "RangeIndex: 18192 entries, 0 to 18191\n",
            "Data columns (total 15 columns):\n",
            " #   Column              Non-Null Count  Dtype  \n",
            "---  ------              --------------  -----  \n",
            " 0   datetime            18192 non-null  object \n",
            " 1   temp                18192 non-null  float64\n",
            " 2   feelslike           18192 non-null  float64\n",
            " 3   dew                 18192 non-null  float64\n",
            " 4   humidity            18192 non-null  float64\n",
            " 5   windgust            18192 non-null  float64\n",
            " 6   windspeed           18192 non-null  float64\n",
            " 7   winddir             18192 non-null  float64\n",
            " 8   sealevelpressure    18192 non-null  float64\n",
            " 9   cloudcover          18192 non-null  float64\n",
            " 10  visibility          18192 non-null  float64\n",
            " 11  solarradiation      18192 non-null  int64  \n",
            " 12  solarenergy         18192 non-null  float64\n",
            " 13  uvindex             18192 non-null  int64  \n",
            " 14  conditions_encoded  18192 non-null  int64  \n",
            "dtypes: float64(11), int64(3), object(1)\n",
            "memory usage: 2.1+ MB\n"
          ]
        }
      ],
      "source": [
        "df.info() # kiểm tra dữ liệu đã được định dạng"
      ]
    },
    {
      "cell_type": "code",
      "execution_count": 216,
      "metadata": {
        "colab": {
          "base_uri": "https://localhost:8080/"
        },
        "id": "-7Hxlw_G_Tpr",
        "outputId": "3e46b719-c161-428c-e67f-605a1a84429f"
      },
      "outputs": [],
      "source": [
        "# correlation = df['price_coffee'].corr(df['price_oil'])\n",
        "\n",
        "# print(\" Correlation coefficient: \", correlation)"
      ]
    },
    {
      "cell_type": "code",
      "execution_count": 217,
      "metadata": {
        "id": "ROiSSfCm_Ti3"
      },
      "outputs": [],
      "source": [
        "#Định dạng lại cấu trúc của cột Date (định dạng năm-tháng-ngày)\n",
        "df[\"datetime\"] = pd.to_datetime(df.datetime, format=\"%Y-%m-%dT%H:%M:%S\")"
      ]
    },
    {
      "cell_type": "code",
      "execution_count": 218,
      "metadata": {
        "id": "Zs2cOyyD_oIu"
      },
      "outputs": [],
      "source": [
        "df=pd.DataFrame(df,columns=['datetime','temp','feelslike','dew','humidity','windgust','windspeed','winddir','sealevelpressure','cloudcover','visibility','solarradiation','solarenergy','uvindex','conditions_encoded'])\n",
        "df.index=df.datetime\n",
        "df.drop(\"datetime\",axis=1, inplace=True)"
      ]
    },
    {
      "cell_type": "code",
      "execution_count": 219,
      "metadata": {
        "colab": {
          "base_uri": "https://localhost:8080/",
          "height": 440
        },
        "id": "74FEuLnU_5Qe",
        "outputId": "8ddafec9-df3f-4311-d6bd-ee99cd2e4572"
      },
      "outputs": [
        {
          "data": {
            "text/plain": [
              "<Axes: xlabel='datetime'>"
            ]
          },
          "execution_count": 219,
          "metadata": {},
          "output_type": "execute_result"
        },
        {
          "data": {
            "image/png": "[encoded data removed]",
            "text/plain": [
              "<Figure size 640x480 with 1 Axes>"
            ]
          },
          "metadata": {},
          "output_type": "display_data"
        }
      ],
      "source": [
        "df_for_plot=df.tail(3865)\n",
        "df_for_plot.plot.line()# df_for_plot=df_for_training.tail(5000)"
      ]
    },
    {
      "cell_type": "markdown",
      "metadata": {
        "id": "alzYUrqwAOOt"
      },
      "source": [
        "## **Devided Data**"
      ]
    },
    {
      "cell_type": "code",
      "execution_count": 220,
      "metadata": {
        "colab": {
          "base_uri": "https://localhost:8080/"
        },
        "id": "cNCdQEzaAK-2",
        "outputId": "6f593586-f3af-44e3-f9ef-6242ff91029a"
      },
      "outputs": [
        {
          "data": {
            "text/plain": [
              "(18192, 14)"
            ]
          },
          "execution_count": 220,
          "metadata": {},
          "output_type": "execute_result"
        }
      ],
      "source": [
        "df.shape #kiểm tra số dòng của dữ liệu"
      ]
    },
    {
      "cell_type": "code",
      "execution_count": 221,
      "metadata": {
        "colab": {
          "base_uri": "https://localhost:8080/"
        },
        "id": "2PhJGO22AYeq",
        "outputId": "73ca1bd2-fe43-447c-d147-60a85bc14d64"
      },
      "outputs": [
        {
          "data": {
            "text/plain": [
              "(3638, 14)"
            ]
          },
          "execution_count": 221,
          "metadata": {},
          "output_type": "execute_result"
        }
      ],
      "source": [
        "data=df.values\n",
        "training_data_len = math.ceil(len(data)* 0.8)\n",
        "train_data = data[0: training_data_len, :]\n",
        "train_data.shape\n",
        "test_data=data[training_data_len:]\n",
        "test_data.shape"
      ]
    },
    {
      "cell_type": "code",
      "execution_count": 222,
      "metadata": {
        "id": "gC-r_B7UAk80"
      },
      "outputs": [],
      "source": [
        "#Tiến hành chuẩn hoá lại dữ liệu với các giá trị được đưa về từ 0-1\n",
        "sc=MinMaxScaler(feature_range=(0,1))\n",
        "#Chuẩn hoá dữ liệu có tên data\n",
        "sc_train=sc.fit_transform(data)"
      ]
    },
    {
      "cell_type": "code",
      "execution_count": 223,
      "metadata": {
        "colab": {
          "base_uri": "https://localhost:8080/",
          "height": 74
        },
        "id": "31UFyiV1RQTu",
        "outputId": "2faa7247-9af3-4e92-8c1f-34cb666cec25"
      },
      "outputs": [
        {
          "data": {
            "text/html": [
              "<style>#sk-container-id-5 {\n",
              "  /* Definition of color scheme common for light and dark mode */\n",
              "  --sklearn-color-text: black;\n",
              "  --sklearn-color-line: gray;\n",
              "  /* Definition of color scheme for unfitted estimators */\n",
              "  --sklearn-color-unfitted-level-0: #fff5e6;\n",
              "  --sklearn-color-unfitted-level-1: #f6e4d2;\n",
              "  --sklearn-color-unfitted-level-2: #ffe0b3;\n",
              "  --sklearn-color-unfitted-level-3: chocolate;\n",
              "  /* Definition of color scheme for fitted estimators */\n",
              "  --sklearn-color-fitted-level-0: #f0f8ff;\n",
              "  --sklearn-color-fitted-level-1: #d4ebff;\n",
              "  --sklearn-color-fitted-level-2: #b3dbfd;\n",
              "  --sklearn-color-fitted-level-3: cornflowerblue;\n",
              "\n",
              "  /* Specific color for light theme */\n",
              "  --sklearn-color-text-on-default-background: var(--sg-text-color, var(--theme-code-foreground, var(--jp-content-font-color1, black)));\n",
              "  --sklearn-color-background: var(--sg-background-color, var(--theme-background, var(--jp-layout-color0, white)));\n",
              "  --sklearn-color-border-box: var(--sg-text-color, var(--theme-code-foreground, var(--jp-content-font-color1, black)));\n",
              "  --sklearn-color-icon: #696969;\n",
              "\n",
              "  @media (prefers-color-scheme: dark) {\n",
              "    /* Redefinition of color scheme for dark theme */\n",
              "    --sklearn-color-text-on-default-background: var(--sg-text-color, var(--theme-code-foreground, var(--jp-content-font-color1, white)));\n",
              "    --sklearn-color-background: var(--sg-background-color, var(--theme-background, var(--jp-layout-color0, #111)));\n",
              "    --sklearn-color-border-box: var(--sg-text-color, var(--theme-code-foreground, var(--jp-content-font-color1, white)));\n",
              "    --sklearn-color-icon: #878787;\n",
              "  }\n",
              "}\n",
              "\n",
              "#sk-container-id-5 {\n",
              "  color: var(--sklearn-color-text);\n",
              "}\n",
              "\n",
              "#sk-container-id-5 pre {\n",
              "  padding: 0;\n",
              "}\n",
              "\n",
              "#sk-container-id-5 input.sk-hidden--visually {\n",
              "  border: 0;\n",
              "  clip: rect(1px 1px 1px 1px);\n",
              "  clip: rect(1px, 1px, 1px, 1px);\n",
              "  height: 1px;\n",
              "  margin: -1px;\n",
              "  overflow: hidden;\n",
              "  padding: 0;\n",
              "  position: absolute;\n",
              "  width: 1px;\n",
              "}\n",
              "\n",
              "#sk-container-id-5 div.sk-dashed-wrapped {\n",
              "  border: 1px dashed var(--sklearn-color-line);\n",
              "  margin: 0 0.4em 0.5em 0.4em;\n",
              "  box-sizing: border-box;\n",
              "  padding-bottom: 0.4em;\n",
              "  background-color: var(--sklearn-color-background);\n",
              "}\n",
              "\n",
              "#sk-container-id-5 div.sk-container {\n",
              "  /* jupyter's `normalize.less` sets `[hidden] { display: none; }`\n",
              "     but bootstrap.min.css set `[hidden] { display: none !important; }`\n",
              "     so we also need the `!important` here to be able to override the\n",
              "     default hidden behavior on the sphinx rendered scikit-learn.org.\n",
              "     See: https://github.com/scikit-learn/scikit-learn/issues/21755 */\n",
              "  display: inline-block !important;\n",
              "  position: relative;\n",
              "}\n",
              "\n",
              "#sk-container-id-5 div.sk-text-repr-fallback {\n",
              "  display: none;\n",
              "}\n",
              "\n",
              "div.sk-parallel-item,\n",
              "div.sk-serial,\n",
              "div.sk-item {\n",
              "  /* draw centered vertical line to link estimators */\n",
              "  background-image: linear-gradient(var(--sklearn-color-text-on-default-background), var(--sklearn-color-text-on-default-background));\n",
              "  background-size: 2px 100%;\n",
              "  background-repeat: no-repeat;\n",
              "  background-position: center center;\n",
              "}\n",
              "\n",
              "/* Parallel-specific style estimator block */\n",
              "\n",
              "#sk-container-id-5 div.sk-parallel-item::after {\n",
              "  content: \"\";\n",
              "  width: 100%;\n",
              "  border-bottom: 2px solid var(--sklearn-color-text-on-default-background);\n",
              "  flex-grow: 1;\n",
              "}\n",
              "\n",
              "#sk-container-id-5 div.sk-parallel {\n",
              "  display: flex;\n",
              "  align-items: stretch;\n",
              "  justify-content: center;\n",
              "  background-color: var(--sklearn-color-background);\n",
              "  position: relative;\n",
              "}\n",
              "\n",
              "#sk-container-id-5 div.sk-parallel-item {\n",
              "  display: flex;\n",
              "  flex-direction: column;\n",
              "}\n",
              "\n",
              "#sk-container-id-5 div.sk-parallel-item:first-child::after {\n",
              "  align-self: flex-end;\n",
              "  width: 50%;\n",
              "}\n",
              "\n",
              "#sk-container-id-5 div.sk-parallel-item:last-child::after {\n",
              "  align-self: flex-start;\n",
              "  width: 50%;\n",
              "}\n",
              "\n",
              "#sk-container-id-5 div.sk-parallel-item:only-child::after {\n",
              "  width: 0;\n",
              "}\n",
              "\n",
              "/* Serial-specific style estimator block */\n",
              "\n",
              "#sk-container-id-5 div.sk-serial {\n",
              "  display: flex;\n",
              "  flex-direction: column;\n",
              "  align-items: center;\n",
              "  background-color: var(--sklearn-color-background);\n",
              "  padding-right: 1em;\n",
              "  padding-left: 1em;\n",
              "}\n",
              "\n",
              "\n",
              "/* Toggleable style: style used for estimator/Pipeline/ColumnTransformer box that is\n",
              "clickable and can be expanded/collapsed.\n",
              "- Pipeline and ColumnTransformer use this feature and define the default style\n",
              "- Estimators will overwrite some part of the style using the `sk-estimator` class\n",
              "*/\n",
              "\n",
              "/* Pipeline and ColumnTransformer style (default) */\n",
              "\n",
              "#sk-container-id-5 div.sk-toggleable {\n",
              "  /* Default theme specific background. It is overwritten whether we have a\n",
              "  specific estimator or a Pipeline/ColumnTransformer */\n",
              "  background-color: var(--sklearn-color-background);\n",
              "}\n",
              "\n",
              "/* Toggleable label */\n",
              "#sk-container-id-5 label.sk-toggleable__label {\n",
              "  cursor: pointer;\n",
              "  display: block;\n",
              "  width: 100%;\n",
              "  margin-bottom: 0;\n",
              "  padding: 0.5em;\n",
              "  box-sizing: border-box;\n",
              "  text-align: center;\n",
              "}\n",
              "\n",
              "#sk-container-id-5 label.sk-toggleable__label-arrow:before {\n",
              "  /* Arrow on the left of the label */\n",
              "  content: \"▸\";\n",
              "  float: left;\n",
              "  margin-right: 0.25em;\n",
              "  color: var(--sklearn-color-icon);\n",
              "}\n",
              "\n",
              "#sk-container-id-5 label.sk-toggleable__label-arrow:hover:before {\n",
              "  color: var(--sklearn-color-text);\n",
              "}\n",
              "\n",
              "/* Toggleable content - dropdown */\n",
              "\n",
              "#sk-container-id-5 div.sk-toggleable__content {\n",
              "  max-height: 0;\n",
              "  max-width: 0;\n",
              "  overflow: hidden;\n",
              "  text-align: left;\n",
              "  /* unfitted */\n",
              "  background-color: var(--sklearn-color-unfitted-level-0);\n",
              "}\n",
              "\n",
              "#sk-container-id-5 div.sk-toggleable__content.fitted {\n",
              "  /* fitted */\n",
              "  background-color: var(--sklearn-color-fitted-level-0);\n",
              "}\n",
              "\n",
              "#sk-container-id-5 div.sk-toggleable__content pre {\n",
              "  margin: 0.2em;\n",
              "  border-radius: 0.25em;\n",
              "  color: var(--sklearn-color-text);\n",
              "  /* unfitted */\n",
              "  background-color: var(--sklearn-color-unfitted-level-0);\n",
              "}\n",
              "\n",
              "#sk-container-id-5 div.sk-toggleable__content.fitted pre {\n",
              "  /* unfitted */\n",
              "  background-color: var(--sklearn-color-fitted-level-0);\n",
              "}\n",
              "\n",
              "#sk-container-id-5 input.sk-toggleable__control:checked~div.sk-toggleable__content {\n",
              "  /* Expand drop-down */\n",
              "  max-height: 200px;\n",
              "  max-width: 100%;\n",
              "  overflow: auto;\n",
              "}\n",
              "\n",
              "#sk-container-id-5 input.sk-toggleable__control:checked~label.sk-toggleable__label-arrow:before {\n",
              "  content: \"▾\";\n",
              "}\n",
              "\n",
              "/* Pipeline/ColumnTransformer-specific style */\n",
              "\n",
              "#sk-container-id-5 div.sk-label input.sk-toggleable__control:checked~label.sk-toggleable__label {\n",
              "  color: var(--sklearn-color-text);\n",
              "  background-color: var(--sklearn-color-unfitted-level-2);\n",
              "}\n",
              "\n",
              "#sk-container-id-5 div.sk-label.fitted input.sk-toggleable__control:checked~label.sk-toggleable__label {\n",
              "  background-color: var(--sklearn-color-fitted-level-2);\n",
              "}\n",
              "\n",
              "/* Estimator-specific style */\n",
              "\n",
              "/* Colorize estimator box */\n",
              "#sk-container-id-5 div.sk-estimator input.sk-toggleable__control:checked~label.sk-toggleable__label {\n",
              "  /* unfitted */\n",
              "  background-color: var(--sklearn-color-unfitted-level-2);\n",
              "}\n",
              "\n",
              "#sk-container-id-5 div.sk-estimator.fitted input.sk-toggleable__control:checked~label.sk-toggleable__label {\n",
              "  /* fitted */\n",
              "  background-color: var(--sklearn-color-fitted-level-2);\n",
              "}\n",
              "\n",
              "#sk-container-id-5 div.sk-label label.sk-toggleable__label,\n",
              "#sk-container-id-5 div.sk-label label {\n",
              "  /* The background is the default theme color */\n",
              "  color: var(--sklearn-color-text-on-default-background);\n",
              "}\n",
              "\n",
              "/* On hover, darken the color of the background */\n",
              "#sk-container-id-5 div.sk-label:hover label.sk-toggleable__label {\n",
              "  color: var(--sklearn-color-text);\n",
              "  background-color: var(--sklearn-color-unfitted-level-2);\n",
              "}\n",
              "\n",
              "/* Label box, darken color on hover, fitted */\n",
              "#sk-container-id-5 div.sk-label.fitted:hover label.sk-toggleable__label.fitted {\n",
              "  color: var(--sklearn-color-text);\n",
              "  background-color: var(--sklearn-color-fitted-level-2);\n",
              "}\n",
              "\n",
              "/* Estimator label */\n",
              "\n",
              "#sk-container-id-5 div.sk-label label {\n",
              "  font-family: monospace;\n",
              "  font-weight: bold;\n",
              "  display: inline-block;\n",
              "  line-height: 1.2em;\n",
              "}\n",
              "\n",
              "#sk-container-id-5 div.sk-label-container {\n",
              "  text-align: center;\n",
              "}\n",
              "\n",
              "/* Estimator-specific */\n",
              "#sk-container-id-5 div.sk-estimator {\n",
              "  font-family: monospace;\n",
              "  border: 1px dotted var(--sklearn-color-border-box);\n",
              "  border-radius: 0.25em;\n",
              "  box-sizing: border-box;\n",
              "  margin-bottom: 0.5em;\n",
              "  /* unfitted */\n",
              "  background-color: var(--sklearn-color-unfitted-level-0);\n",
              "}\n",
              "\n",
              "#sk-container-id-5 div.sk-estimator.fitted {\n",
              "  /* fitted */\n",
              "  background-color: var(--sklearn-color-fitted-level-0);\n",
              "}\n",
              "\n",
              "/* on hover */\n",
              "#sk-container-id-5 div.sk-estimator:hover {\n",
              "  /* unfitted */\n",
              "  background-color: var(--sklearn-color-unfitted-level-2);\n",
              "}\n",
              "\n",
              "#sk-container-id-5 div.sk-estimator.fitted:hover {\n",
              "  /* fitted */\n",
              "  background-color: var(--sklearn-color-fitted-level-2);\n",
              "}\n",
              "\n",
              "/* Specification for estimator info (e.g. \"i\" and \"?\") */\n",
              "\n",
              "/* Common style for \"i\" and \"?\" */\n",
              "\n",
              ".sk-estimator-doc-link,\n",
              "a:link.sk-estimator-doc-link,\n",
              "a:visited.sk-estimator-doc-link {\n",
              "  float: right;\n",
              "  font-size: smaller;\n",
              "  line-height: 1em;\n",
              "  font-family: monospace;\n",
              "  background-color: var(--sklearn-color-background);\n",
              "  border-radius: 1em;\n",
              "  height: 1em;\n",
              "  width: 1em;\n",
              "  text-decoration: none !important;\n",
              "  margin-left: 1ex;\n",
              "  /* unfitted */\n",
              "  border: var(--sklearn-color-unfitted-level-1) 1pt solid;\n",
              "  color: var(--sklearn-color-unfitted-level-1);\n",
              "}\n",
              "\n",
              ".sk-estimator-doc-link.fitted,\n",
              "a:link.sk-estimator-doc-link.fitted,\n",
              "a:visited.sk-estimator-doc-link.fitted {\n",
              "  /* fitted */\n",
              "  border: var(--sklearn-color-fitted-level-1) 1pt solid;\n",
              "  color: var(--sklearn-color-fitted-level-1);\n",
              "}\n",
              "\n",
              "/* On hover */\n",
              "div.sk-estimator:hover .sk-estimator-doc-link:hover,\n",
              ".sk-estimator-doc-link:hover,\n",
              "div.sk-label-container:hover .sk-estimator-doc-link:hover,\n",
              ".sk-estimator-doc-link:hover {\n",
              "  /* unfitted */\n",
              "  background-color: var(--sklearn-color-unfitted-level-3);\n",
              "  color: var(--sklearn-color-background);\n",
              "  text-decoration: none;\n",
              "}\n",
              "\n",
              "div.sk-estimator.fitted:hover .sk-estimator-doc-link.fitted:hover,\n",
              ".sk-estimator-doc-link.fitted:hover,\n",
              "div.sk-label-container:hover .sk-estimator-doc-link.fitted:hover,\n",
              ".sk-estimator-doc-link.fitted:hover {\n",
              "  /* fitted */\n",
              "  background-color: var(--sklearn-color-fitted-level-3);\n",
              "  color: var(--sklearn-color-background);\n",
              "  text-decoration: none;\n",
              "}\n",
              "\n",
              "/* Span, style for the box shown on hovering the info icon */\n",
              ".sk-estimator-doc-link span {\n",
              "  display: none;\n",
              "  z-index: 9999;\n",
              "  position: relative;\n",
              "  font-weight: normal;\n",
              "  right: .2ex;\n",
              "  padding: .5ex;\n",
              "  margin: .5ex;\n",
              "  width: min-content;\n",
              "  min-width: 20ex;\n",
              "  max-width: 50ex;\n",
              "  color: var(--sklearn-color-text);\n",
              "  box-shadow: 2pt 2pt 4pt #999;\n",
              "  /* unfitted */\n",
              "  background: var(--sklearn-color-unfitted-level-0);\n",
              "  border: .5pt solid var(--sklearn-color-unfitted-level-3);\n",
              "}\n",
              "\n",
              ".sk-estimator-doc-link.fitted span {\n",
              "  /* fitted */\n",
              "  background: var(--sklearn-color-fitted-level-0);\n",
              "  border: var(--sklearn-color-fitted-level-3);\n",
              "}\n",
              "\n",
              ".sk-estimator-doc-link:hover span {\n",
              "  display: block;\n",
              "}\n",
              "\n",
              "/* \"?\"-specific style due to the `<a>` HTML tag */\n",
              "\n",
              "#sk-container-id-5 a.estimator_doc_link {\n",
              "  float: right;\n",
              "  font-size: 1rem;\n",
              "  line-height: 1em;\n",
              "  font-family: monospace;\n",
              "  background-color: var(--sklearn-color-background);\n",
              "  border-radius: 1rem;\n",
              "  height: 1rem;\n",
              "  width: 1rem;\n",
              "  text-decoration: none;\n",
              "  /* unfitted */\n",
              "  color: var(--sklearn-color-unfitted-level-1);\n",
              "  border: var(--sklearn-color-unfitted-level-1) 1pt solid;\n",
              "}\n",
              "\n",
              "#sk-container-id-5 a.estimator_doc_link.fitted {\n",
              "  /* fitted */\n",
              "  border: var(--sklearn-color-fitted-level-1) 1pt solid;\n",
              "  color: var(--sklearn-color-fitted-level-1);\n",
              "}\n",
              "\n",
              "/* On hover */\n",
              "#sk-container-id-5 a.estimator_doc_link:hover {\n",
              "  /* unfitted */\n",
              "  background-color: var(--sklearn-color-unfitted-level-3);\n",
              "  color: var(--sklearn-color-background);\n",
              "  text-decoration: none;\n",
              "}\n",
              "\n",
              "#sk-container-id-5 a.estimator_doc_link.fitted:hover {\n",
              "  /* fitted */\n",
              "  background-color: var(--sklearn-color-fitted-level-3);\n",
              "}\n",
              "</style><div id=\"sk-container-id-5\" class=\"sk-top-container\"><div class=\"sk-text-repr-fallback\"><pre>MinMaxScaler()</pre><b>In a Jupyter environment, please rerun this cell to show the HTML representation or trust the notebook. <br />On GitHub, the HTML representation is unable to render, please try loading this page with nbviewer.org.</b></div><div class=\"sk-container\" hidden><div class=\"sk-item\"><div class=\"sk-estimator fitted sk-toggleable\"><input class=\"sk-toggleable__control sk-hidden--visually\" id=\"sk-estimator-id-5\" type=\"checkbox\" checked><label for=\"sk-estimator-id-5\" class=\"sk-toggleable__label fitted sk-toggleable__label-arrow fitted\">&nbsp;&nbsp;MinMaxScaler<a class=\"sk-estimator-doc-link fitted\" rel=\"noreferrer\" target=\"_blank\" href=\"https://scikit-learn.org/1.4/modules/generated/sklearn.preprocessing.MinMaxScaler.html\">?<span>Documentation for MinMaxScaler</span></a><span class=\"sk-estimator-doc-link fitted\">i<span>Fitted</span></span></label><div class=\"sk-toggleable__content fitted\"><pre>MinMaxScaler()</pre></div> </div></div></div></div>"
            ],
            "text/plain": [
              "MinMaxScaler()"
            ]
          },
          "execution_count": 223,
          "metadata": {},
          "output_type": "execute_result"
        }
      ],
      "source": [
        "sc"
      ]
    },
    {
      "cell_type": "code",
      "execution_count": 224,
      "metadata": {
        "colab": {
          "base_uri": "https://localhost:8080/"
        },
        "id": "XWlmPwiJA0g_",
        "outputId": "91bf76c5-a94b-47c7-a3b8-b6ed1a195265"
      },
      "outputs": [
        {
          "data": {
            "text/plain": [
              "(18192, 14)"
            ]
          },
          "execution_count": 224,
          "metadata": {},
          "output_type": "execute_result"
        }
      ],
      "source": [
        "sc_train.shape"
      ]
    },
    {
      "cell_type": "code",
      "execution_count": 225,
      "metadata": {
        "id": "9cjpnjD6BKCk"
      },
      "outputs": [],
      "source": [
        "\n",
        "trainX = []\n",
        "trainY = []\n",
        "\n",
        "n_future = 1   # Number of days we want to look into the future based on the past days.\n",
        "n_past = 14  # Number of past days we want to use to predict the future.\n"
      ]
    },
    {
      "cell_type": "code",
      "execution_count": 226,
      "metadata": {},
      "outputs": [
        {
          "name": "stdout",
          "output_type": "stream",
          "text": [
            "0.3298969072164948\n",
            "0.21993127147766323\n",
            "0.8125\n",
            "1.0000000000000002\n",
            "0.29268292682926833\n",
            "0.08470588235294117\n",
            "0.3572222222222222\n",
            "0.3684210526315823\n",
            "0.5\n",
            "0.38961038961038963\n",
            "0.0\n",
            "0.0\n",
            "0.0\n",
            "0.4\n"
          ]
        }
      ],
      "source": [
        "for i in range(14):\n",
        "    print(sc_train[0][i])"
      ]
    },
    {
      "cell_type": "code",
      "execution_count": 227,
      "metadata": {
        "colab": {
          "base_uri": "https://localhost:8080/"
        },
        "id": "lOmRIkj7A2lf",
        "outputId": "b91d5c85-3785-495d-f920-bc00cfefb543"
      },
      "outputs": [
        {
          "name": "stdout",
          "output_type": "stream",
          "text": [
            "trainX shape == (14540, 14, 14).\n",
            "trainY shape == (14540, 1).\n"
          ]
        }
      ],
      "source": [
        "# 8-2\n",
        "#Tiến hành kahi báo 2 mảng dử liệu x_train và y_train\n",
        "for i in range(n_past, len(train_data) - n_future +1):\n",
        "    trainX.append(sc_train[i - n_past:i, 0:train_data.shape[1]])\n",
        "    trainY.append(sc_train[i + n_future - 1:i + n_future, 13])\n",
        "\n",
        "trainX, trainY = np.array(trainX), np.array(trainY)\n",
        "\n",
        "print('trainX shape == {}.'.format(trainX.shape))\n",
        "print('trainY shape == {}.'.format(trainY.shape))"
      ]
    },
    {
      "cell_type": "code",
      "execution_count": 228,
      "metadata": {
        "colab": {
          "base_uri": "https://localhost:8080/"
        },
        "id": "3uKX5b3gQ9aq",
        "outputId": "cc8424cc-7a88-474e-c36b-03ab180e05e4"
      },
      "outputs": [
        {
          "data": {
            "text/plain": [
              "array([[0.4],\n",
              "       [0.4],\n",
              "       [0.4],\n",
              "       ...,\n",
              "       [0. ],\n",
              "       [0. ],\n",
              "       [0. ]])"
            ]
          },
          "execution_count": 228,
          "metadata": {},
          "output_type": "execute_result"
        }
      ],
      "source": [
        "trainY"
      ]
    },
    {
      "cell_type": "code",
      "execution_count": 161,
      "metadata": {},
      "outputs": [
        {
          "data": {
            "text/plain": [
              "(14540, 14, 14)"
            ]
          },
          "execution_count": 161,
          "metadata": {},
          "output_type": "execute_result"
        }
      ],
      "source": [
        "trainX.shape"
      ]
    },
    {
      "cell_type": "code",
      "execution_count": 244,
      "metadata": {},
      "outputs": [
        {
          "data": {
            "text/plain": [
              "14"
            ]
          },
          "execution_count": 244,
          "metadata": {},
          "output_type": "execute_result"
        }
      ],
      "source": [
        "trainX.shape[2]"
      ]
    },
    {
      "cell_type": "code",
      "execution_count": 229,
      "metadata": {
        "colab": {
          "base_uri": "https://localhost:8080/"
        },
        "id": "U6nu4yOxCOhl",
        "outputId": "3b200175-cc5a-4eae-f768-9d4cd76b3ead"
      },
      "outputs": [
        {
          "name": "stderr",
          "output_type": "stream",
          "text": [
            "/home/blackcait/.miniconda3/envs/pytorch_env/lib/python3.12/site-packages/keras/src/layers/rnn/rnn.py:204: UserWarning: Do not pass an `input_shape`/`input_dim` argument to a layer. When using Sequential models, prefer using an `Input(shape)` object as the first layer in the model instead.\n",
            "  super().__init__(**kwargs)\n"
          ]
        },
        {
          "data": {
            "text/html": [
              "<pre style=\"white-space:pre;overflow-x:auto;line-height:normal;font-family:Menlo,'DejaVu Sans Mono',consolas,'Courier New',monospace\"><span style=\"font-weight: bold\">Model: \"sequential_3\"</span>\n",
              "</pre>\n"
            ],
            "text/plain": [
              "\u001b[1mModel: \"sequential_3\"\u001b[0m\n"
            ]
          },
          "metadata": {},
          "output_type": "display_data"
        },
        {
          "data": {
            "text/html": [
              "<pre style=\"white-space:pre;overflow-x:auto;line-height:normal;font-family:Menlo,'DejaVu Sans Mono',consolas,'Courier New',monospace\">┏━━━━━━━━━━━━━━━━━━━━━━━━━━━━━━━━━┳━━━━━━━━━━━━━━━━━━━━━━━━┳━━━━━━━━━━━━━━━┓\n",
              "┃<span style=\"font-weight: bold\"> Layer (type)                    </span>┃<span style=\"font-weight: bold\"> Output Shape           </span>┃<span style=\"font-weight: bold\">       Param # </span>┃\n",
              "┡━━━━━━━━━━━━━━━━━━━━━━━━━━━━━━━━━╇━━━━━━━━━━━━━━━━━━━━━━━━╇━━━━━━━━━━━━━━━┩\n",
              "│ lstm_9 (<span style=\"color: #0087ff; text-decoration-color: #0087ff\">LSTM</span>)                   │ (<span style=\"color: #00d7ff; text-decoration-color: #00d7ff\">None</span>, <span style=\"color: #00af00; text-decoration-color: #00af00\">14</span>, <span style=\"color: #00af00; text-decoration-color: #00af00\">64</span>)         │        <span style=\"color: #00af00; text-decoration-color: #00af00\">20,224</span> │\n",
              "├─────────────────────────────────┼────────────────────────┼───────────────┤\n",
              "│ dropout_12 (<span style=\"color: #0087ff; text-decoration-color: #0087ff\">Dropout</span>)            │ (<span style=\"color: #00d7ff; text-decoration-color: #00d7ff\">None</span>, <span style=\"color: #00af00; text-decoration-color: #00af00\">14</span>, <span style=\"color: #00af00; text-decoration-color: #00af00\">64</span>)         │             <span style=\"color: #00af00; text-decoration-color: #00af00\">0</span> │\n",
              "├─────────────────────────────────┼────────────────────────┼───────────────┤\n",
              "│ lstm_10 (<span style=\"color: #0087ff; text-decoration-color: #0087ff\">LSTM</span>)                  │ (<span style=\"color: #00d7ff; text-decoration-color: #00d7ff\">None</span>, <span style=\"color: #00af00; text-decoration-color: #00af00\">14</span>, <span style=\"color: #00af00; text-decoration-color: #00af00\">32</span>)         │        <span style=\"color: #00af00; text-decoration-color: #00af00\">12,416</span> │\n",
              "├─────────────────────────────────┼────────────────────────┼───────────────┤\n",
              "│ dropout_13 (<span style=\"color: #0087ff; text-decoration-color: #0087ff\">Dropout</span>)            │ (<span style=\"color: #00d7ff; text-decoration-color: #00d7ff\">None</span>, <span style=\"color: #00af00; text-decoration-color: #00af00\">14</span>, <span style=\"color: #00af00; text-decoration-color: #00af00\">32</span>)         │             <span style=\"color: #00af00; text-decoration-color: #00af00\">0</span> │\n",
              "├─────────────────────────────────┼────────────────────────┼───────────────┤\n",
              "│ lstm_11 (<span style=\"color: #0087ff; text-decoration-color: #0087ff\">LSTM</span>)                  │ (<span style=\"color: #00d7ff; text-decoration-color: #00d7ff\">None</span>, <span style=\"color: #00af00; text-decoration-color: #00af00\">16</span>)             │         <span style=\"color: #00af00; text-decoration-color: #00af00\">3,136</span> │\n",
              "├─────────────────────────────────┼────────────────────────┼───────────────┤\n",
              "│ dropout_14 (<span style=\"color: #0087ff; text-decoration-color: #0087ff\">Dropout</span>)            │ (<span style=\"color: #00d7ff; text-decoration-color: #00d7ff\">None</span>, <span style=\"color: #00af00; text-decoration-color: #00af00\">16</span>)             │             <span style=\"color: #00af00; text-decoration-color: #00af00\">0</span> │\n",
              "├─────────────────────────────────┼────────────────────────┼───────────────┤\n",
              "│ dense_6 (<span style=\"color: #0087ff; text-decoration-color: #0087ff\">Dense</span>)                 │ (<span style=\"color: #00d7ff; text-decoration-color: #00d7ff\">None</span>, <span style=\"color: #00af00; text-decoration-color: #00af00\">25</span>)             │           <span style=\"color: #00af00; text-decoration-color: #00af00\">425</span> │\n",
              "├─────────────────────────────────┼────────────────────────┼───────────────┤\n",
              "│ dropout_15 (<span style=\"color: #0087ff; text-decoration-color: #0087ff\">Dropout</span>)            │ (<span style=\"color: #00d7ff; text-decoration-color: #00d7ff\">None</span>, <span style=\"color: #00af00; text-decoration-color: #00af00\">25</span>)             │             <span style=\"color: #00af00; text-decoration-color: #00af00\">0</span> │\n",
              "├─────────────────────────────────┼────────────────────────┼───────────────┤\n",
              "│ dense_7 (<span style=\"color: #0087ff; text-decoration-color: #0087ff\">Dense</span>)                 │ (<span style=\"color: #00d7ff; text-decoration-color: #00d7ff\">None</span>, <span style=\"color: #00af00; text-decoration-color: #00af00\">1</span>)              │            <span style=\"color: #00af00; text-decoration-color: #00af00\">26</span> │\n",
              "└─────────────────────────────────┴────────────────────────┴───────────────┘\n",
              "</pre>\n"
            ],
            "text/plain": [
              "┏━━━━━━━━━━━━━━━━━━━━━━━━━━━━━━━━━┳━━━━━━━━━━━━━━━━━━━━━━━━┳━━━━━━━━━━━━━━━┓\n",
              "┃\u001b[1m \u001b[0m\u001b[1mLayer (type)                   \u001b[0m\u001b[1m \u001b[0m┃\u001b[1m \u001b[0m\u001b[1mOutput Shape          \u001b[0m\u001b[1m \u001b[0m┃\u001b[1m \u001b[0m\u001b[1m      Param #\u001b[0m\u001b[1m \u001b[0m┃\n",
              "┡━━━━━━━━━━━━━━━━━━━━━━━━━━━━━━━━━╇━━━━━━━━━━━━━━━━━━━━━━━━╇━━━━━━━━━━━━━━━┩\n",
              "│ lstm_9 (\u001b[38;5;33mLSTM\u001b[0m)                   │ (\u001b[38;5;45mNone\u001b[0m, \u001b[38;5;34m14\u001b[0m, \u001b[38;5;34m64\u001b[0m)         │        \u001b[38;5;34m20,224\u001b[0m │\n",
              "├─────────────────────────────────┼────────────────────────┼───────────────┤\n",
              "│ dropout_12 (\u001b[38;5;33mDropout\u001b[0m)            │ (\u001b[38;5;45mNone\u001b[0m, \u001b[38;5;34m14\u001b[0m, \u001b[38;5;34m64\u001b[0m)         │             \u001b[38;5;34m0\u001b[0m │\n",
              "├─────────────────────────────────┼────────────────────────┼───────────────┤\n",
              "│ lstm_10 (\u001b[38;5;33mLSTM\u001b[0m)                  │ (\u001b[38;5;45mNone\u001b[0m, \u001b[38;5;34m14\u001b[0m, \u001b[38;5;34m32\u001b[0m)         │        \u001b[38;5;34m12,416\u001b[0m │\n",
              "├─────────────────────────────────┼────────────────────────┼───────────────┤\n",
              "│ dropout_13 (\u001b[38;5;33mDropout\u001b[0m)            │ (\u001b[38;5;45mNone\u001b[0m, \u001b[38;5;34m14\u001b[0m, \u001b[38;5;34m32\u001b[0m)         │             \u001b[38;5;34m0\u001b[0m │\n",
              "├─────────────────────────────────┼────────────────────────┼───────────────┤\n",
              "│ lstm_11 (\u001b[38;5;33mLSTM\u001b[0m)                  │ (\u001b[38;5;45mNone\u001b[0m, \u001b[38;5;34m16\u001b[0m)             │         \u001b[38;5;34m3,136\u001b[0m │\n",
              "├─────────────────────────────────┼────────────────────────┼───────────────┤\n",
              "│ dropout_14 (\u001b[38;5;33mDropout\u001b[0m)            │ (\u001b[38;5;45mNone\u001b[0m, \u001b[38;5;34m16\u001b[0m)             │             \u001b[38;5;34m0\u001b[0m │\n",
              "├─────────────────────────────────┼────────────────────────┼───────────────┤\n",
              "│ dense_6 (\u001b[38;5;33mDense\u001b[0m)                 │ (\u001b[38;5;45mNone\u001b[0m, \u001b[38;5;34m25\u001b[0m)             │           \u001b[38;5;34m425\u001b[0m │\n",
              "├─────────────────────────────────┼────────────────────────┼───────────────┤\n",
              "│ dropout_15 (\u001b[38;5;33mDropout\u001b[0m)            │ (\u001b[38;5;45mNone\u001b[0m, \u001b[38;5;34m25\u001b[0m)             │             \u001b[38;5;34m0\u001b[0m │\n",
              "├─────────────────────────────────┼────────────────────────┼───────────────┤\n",
              "│ dense_7 (\u001b[38;5;33mDense\u001b[0m)                 │ (\u001b[38;5;45mNone\u001b[0m, \u001b[38;5;34m1\u001b[0m)              │            \u001b[38;5;34m26\u001b[0m │\n",
              "└─────────────────────────────────┴────────────────────────┴───────────────┘\n"
            ]
          },
          "metadata": {},
          "output_type": "display_data"
        },
        {
          "data": {
            "text/html": [
              "<pre style=\"white-space:pre;overflow-x:auto;line-height:normal;font-family:Menlo,'DejaVu Sans Mono',consolas,'Courier New',monospace\"><span style=\"font-weight: bold\"> Total params: </span><span style=\"color: #00af00; text-decoration-color: #00af00\">36,227</span> (141.51 KB)\n",
              "</pre>\n"
            ],
            "text/plain": [
              "\u001b[1m Total params: \u001b[0m\u001b[38;5;34m36,227\u001b[0m (141.51 KB)\n"
            ]
          },
          "metadata": {},
          "output_type": "display_data"
        },
        {
          "data": {
            "text/html": [
              "<pre style=\"white-space:pre;overflow-x:auto;line-height:normal;font-family:Menlo,'DejaVu Sans Mono',consolas,'Courier New',monospace\"><span style=\"font-weight: bold\"> Trainable params: </span><span style=\"color: #00af00; text-decoration-color: #00af00\">36,227</span> (141.51 KB)\n",
              "</pre>\n"
            ],
            "text/plain": [
              "\u001b[1m Trainable params: \u001b[0m\u001b[38;5;34m36,227\u001b[0m (141.51 KB)\n"
            ]
          },
          "metadata": {},
          "output_type": "display_data"
        },
        {
          "data": {
            "text/html": [
              "<pre style=\"white-space:pre;overflow-x:auto;line-height:normal;font-family:Menlo,'DejaVu Sans Mono',consolas,'Courier New',monospace\"><span style=\"font-weight: bold\"> Non-trainable params: </span><span style=\"color: #00af00; text-decoration-color: #00af00\">0</span> (0.00 B)\n",
              "</pre>\n"
            ],
            "text/plain": [
              "\u001b[1m Non-trainable params: \u001b[0m\u001b[38;5;34m0\u001b[0m (0.00 B)\n"
            ]
          },
          "metadata": {},
          "output_type": "display_data"
        }
      ],
      "source": [
        "# # 8-2\n",
        "model = Sequential()\n",
        "model.add(LSTM(units=64, activation='relu', input_shape=(trainX.shape[1], trainX.shape[2]), return_sequences=True))\n",
        "model.add(Dropout(0.5))\n",
        "model.add(LSTM(units=32, activation='relu', return_sequences=True))\n",
        "model.add(Dropout(0.5))\n",
        "model.add(LSTM(units=16, activation='relu'))\n",
        "model.add(Dropout(0.5))\n",
        "model.add(Dense(25, activation='relu', kernel_regularizer=regularizers.l2(0.001)))\n",
        "model.add(Dropout(0.2))\n",
        "model.add(Dense(trainY.shape[1]))\n",
        "\n",
        "model.compile(loss='mean_absolute_error', optimizer='adam')\n",
        "model.summary()\n"
      ]
    },
    {
      "cell_type": "code",
      "execution_count": 230,
      "metadata": {
        "colab": {
          "base_uri": "https://localhost:8080/"
        },
        "id": "RFpWKKpqCjSh",
        "outputId": "21344874-3633-417c-b93f-9c4bbe8c9051"
      },
      "outputs": [
        {
          "name": "stdout",
          "output_type": "stream",
          "text": [
            "Epoch 1/20\n",
            "\n",
            "Epoch 1: loss improved from inf to 0.12151, saving model to save_model.keras\n",
            "455/455 - 6s - 13ms/step - loss: 0.1215\n",
            "Epoch 2/20\n",
            "\n",
            "Epoch 2: loss improved from 0.12151 to 0.07906, saving model to save_model.keras\n",
            "455/455 - 3s - 8ms/step - loss: 0.0791\n",
            "Epoch 3/20\n",
            "\n",
            "Epoch 3: loss improved from 0.07906 to 0.06437, saving model to save_model.keras\n",
            "455/455 - 4s - 9ms/step - loss: 0.0644\n",
            "Epoch 4/20\n",
            "\n",
            "Epoch 4: loss improved from 0.06437 to 0.05986, saving model to save_model.keras\n",
            "455/455 - 4s - 9ms/step - loss: 0.0599\n",
            "Epoch 5/20\n",
            "\n",
            "Epoch 5: loss improved from 0.05986 to 0.05943, saving model to save_model.keras\n",
            "455/455 - 3s - 7ms/step - loss: 0.0594\n",
            "Epoch 6/20\n",
            "\n",
            "Epoch 6: loss improved from 0.05943 to 0.05923, saving model to save_model.keras\n",
            "455/455 - 4s - 9ms/step - loss: 0.0592\n",
            "Epoch 7/20\n",
            "\n",
            "Epoch 7: loss improved from 0.05923 to 0.05910, saving model to save_model.keras\n",
            "455/455 - 5s - 12ms/step - loss: 0.0591\n",
            "Epoch 8/20\n",
            "\n",
            "Epoch 8: loss improved from 0.05910 to 0.05908, saving model to save_model.keras\n",
            "455/455 - 4s - 10ms/step - loss: 0.0591\n",
            "Epoch 9/20\n",
            "\n",
            "Epoch 9: loss improved from 0.05908 to 0.05906, saving model to save_model.keras\n",
            "455/455 - 5s - 10ms/step - loss: 0.0591\n",
            "Epoch 10/20\n",
            "\n",
            "Epoch 10: loss did not improve from 0.05906\n",
            "455/455 - 4s - 8ms/step - loss: 0.0591\n",
            "Epoch 11/20\n",
            "\n",
            "Epoch 11: loss improved from 0.05906 to 0.05903, saving model to save_model.keras\n",
            "455/455 - 5s - 10ms/step - loss: 0.0590\n",
            "Epoch 12/20\n",
            "\n",
            "Epoch 12: loss did not improve from 0.05903\n",
            "455/455 - 4s - 9ms/step - loss: 0.0590\n",
            "Epoch 13/20\n",
            "\n",
            "Epoch 13: loss did not improve from 0.05903\n",
            "455/455 - 4s - 9ms/step - loss: 0.0590\n",
            "Epoch 14/20\n",
            "\n",
            "Epoch 14: loss did not improve from 0.05903\n",
            "455/455 - 4s - 8ms/step - loss: 0.0591\n",
            "Epoch 15/20\n",
            "\n",
            "Epoch 15: loss did not improve from 0.05903\n",
            "455/455 - 4s - 9ms/step - loss: 0.0590\n",
            "Epoch 16/20\n",
            "\n",
            "Epoch 16: loss did not improve from 0.05903\n",
            "455/455 - 4s - 9ms/step - loss: 0.0590\n",
            "Epoch 17/20\n",
            "\n",
            "Epoch 17: loss improved from 0.05903 to 0.05902, saving model to save_model.keras\n",
            "455/455 - 4s - 9ms/step - loss: 0.0590\n",
            "Epoch 18/20\n",
            "\n",
            "Epoch 18: loss did not improve from 0.05902\n",
            "455/455 - 4s - 9ms/step - loss: 0.0590\n",
            "Epoch 19/20\n",
            "\n",
            "Epoch 19: loss did not improve from 0.05902\n",
            "455/455 - 4s - 9ms/step - loss: 0.0590\n",
            "Epoch 20/20\n",
            "\n",
            "Epoch 20: loss did not improve from 0.05902\n",
            "455/455 - 4s - 9ms/step - loss: 0.0590\n"
          ]
        },
        {
          "data": {
            "text/plain": [
              "<keras.src.callbacks.history.History at 0x70c9b0563bc0>"
            ]
          },
          "execution_count": 230,
          "metadata": {},
          "output_type": "execute_result"
        }
      ],
      "source": [
        "\n",
        "# Train the model\n",
        "save_model = \"save_model.keras\"  # Save the model with .keras extension\n",
        "best_model = ModelCheckpoint(save_model, monitor='loss', verbose=2, save_best_only=True, mode='auto')  # Find the best model\n",
        "model.fit(trainX, trainY, epochs=20, verbose=2, callbacks=[best_model])  # Save the best model during training\n"
      ]
    },
    {
      "cell_type": "code",
      "execution_count": 231,
      "metadata": {
        "colab": {
          "base_uri": "https://localhost:8080/",
          "height": 448
        },
        "id": "_t95KBhgC8Yt",
        "outputId": "9f40bb13-ee1b-49b0-cac9-98bc77f219d2"
      },
      "outputs": [
        {
          "data": {
            "text/plain": [
              "[<matplotlib.lines.Line2D at 0x70ca109446b0>]"
            ]
          },
          "execution_count": 231,
          "metadata": {},
          "output_type": "execute_result"
        },
        {
          "data": {
            "image/png": "[encoded data removed]",
            "text/plain": [
              "<Figure size 640x480 with 1 Axes>"
            ]
          },
          "metadata": {},
          "output_type": "display_data"
        }
      ],
      "source": [
        "loss_per_epoch = model.history.history['loss']\n",
        "plt.plot(loss_per_epoch)"
      ]
    },
    {
      "cell_type": "code",
      "execution_count": 232,
      "metadata": {},
      "outputs": [
        {
          "data": {
            "text/plain": [
              "(14540, 14, 14)"
            ]
          },
          "execution_count": 232,
          "metadata": {},
          "output_type": "execute_result"
        }
      ],
      "source": [
        "trainX.shape"
      ]
    },
    {
      "cell_type": "code",
      "execution_count": 233,
      "metadata": {
        "id": "f1gxczxwDATA"
      },
      "outputs": [
        {
          "name": "stdout",
          "output_type": "stream",
          "text": [
            "\u001b[1m455/455\u001b[0m \u001b[32m━━━━━━━━━━━━━━━━━━━━\u001b[0m\u001b[37m\u001b[0m \u001b[1m5s\u001b[0m 10ms/step\n"
          ]
        }
      ],
      "source": [
        "# 8-2\n",
        "prediction_copies = np.repeat(trainY, train_data.shape[1], axis=-1)\n",
        "y_train=sc.inverse_transform(prediction_copies) #tiến hành xử lí số chuẩn hoá 0-1 thành giá vàng VND\n",
        "final_model=load_model('save_model.keras') #load lại mô hình tốt nhất đã lưu\n",
        "y_train_predict=final_model.predict(trainX) #giá dự đoán\n",
        "y_train_predict = np.repeat(y_train_predict, train_data.shape[1], axis=-1)\n",
        "y_train_predict=sc.inverse_transform(y_train_predict)"
      ]
    },
    {
      "cell_type": "code",
      "execution_count": 234,
      "metadata": {
        "id": "LOBmvgiHR2kq"
      },
      "outputs": [
        {
          "name": "stdout",
          "output_type": "stream",
          "text": [
            "\u001b[1m114/114\u001b[0m \u001b[32m━━━━━━━━━━━━━━━━━━━━\u001b[0m\u001b[37m\u001b[0m \u001b[1m1s\u001b[0m 9ms/step\n"
          ]
        }
      ],
      "source": [
        "# 8-2\n",
        "test=df[len(train_data)-14:].values\n",
        "test=test.reshape(-1,14)\n",
        "sc_test=sc.transform(test)\n",
        "\n",
        "x_test=[]\n",
        "for i in range(n_past, len(test) - n_future +1):\n",
        "    x_test.append(sc_test[i - n_past:i, 0:train_data.shape[1]])\n",
        "x_test=np.array(x_test)\n",
        "\n",
        "y_test=data[training_data_len:]\n",
        "y_test_predict=final_model.predict(x_test)\n",
        "y_test_predict = np.repeat(y_test_predict, train_data.shape[1], axis=-1)\n",
        "y_test_predict=sc.inverse_transform(y_test_predict)"
      ]
    },
    {
      "cell_type": "code",
      "execution_count": 245,
      "metadata": {},
      "outputs": [],
      "source": [
        "train_prediction = []\n",
        "test_prediction = []\n",
        "for i in y_train_predict:\n",
        "    train_prediction.append(i[13])\n",
        "for i in y_test_predict:\n",
        "    test_prediction.append(i[13])\n",
        "\n"
      ]
    },
    {
      "cell_type": "code",
      "execution_count": 249,
      "metadata": {
        "id": "CzvaUzyIXRdN"
      },
      "outputs": [],
      "source": [
        "train_datal=df[14:training_data_len]\n",
        "test_datal=df[training_data_len:]"
      ]
    },
    {
      "cell_type": "code",
      "execution_count": 250,
      "metadata": {},
      "outputs": [
        {
          "data": {
            "text/html": [
              "<div>\n",
              "<style scoped>\n",
              "    .dataframe tbody tr th:only-of-type {\n",
              "        vertical-align: middle;\n",
              "    }\n",
              "\n",
              "    .dataframe tbody tr th {\n",
              "        vertical-align: top;\n",
              "    }\n",
              "\n",
              "    .dataframe thead th {\n",
              "        text-align: right;\n",
              "    }\n",
              "</style>\n",
              "<table border=\"1\" class=\"dataframe\">\n",
              "  <thead>\n",
              "    <tr style=\"text-align: right;\">\n",
              "      <th></th>\n",
              "      <th>temp</th>\n",
              "      <th>feelslike</th>\n",
              "      <th>dew</th>\n",
              "      <th>humidity</th>\n",
              "      <th>windgust</th>\n",
              "      <th>windspeed</th>\n",
              "      <th>winddir</th>\n",
              "      <th>sealevelpressure</th>\n",
              "      <th>cloudcover</th>\n",
              "      <th>visibility</th>\n",
              "      <th>solarradiation</th>\n",
              "      <th>solarenergy</th>\n",
              "      <th>uvindex</th>\n",
              "      <th>conditions_encoded</th>\n",
              "    </tr>\n",
              "    <tr>\n",
              "      <th>datetime</th>\n",
              "      <th></th>\n",
              "      <th></th>\n",
              "      <th></th>\n",
              "      <th></th>\n",
              "      <th></th>\n",
              "      <th></th>\n",
              "      <th></th>\n",
              "      <th></th>\n",
              "      <th></th>\n",
              "      <th></th>\n",
              "      <th></th>\n",
              "      <th></th>\n",
              "      <th></th>\n",
              "      <th></th>\n",
              "    </tr>\n",
              "  </thead>\n",
              "  <tbody>\n",
              "    <tr>\n",
              "      <th>2022-05-01 14:00:00</th>\n",
              "      <td>29.0</td>\n",
              "      <td>34.5</td>\n",
              "      <td>25.0</td>\n",
              "      <td>79.06</td>\n",
              "      <td>16.6</td>\n",
              "      <td>3.6</td>\n",
              "      <td>178.4</td>\n",
              "      <td>1005.0</td>\n",
              "      <td>88.8</td>\n",
              "      <td>10.0</td>\n",
              "      <td>708</td>\n",
              "      <td>2.5</td>\n",
              "      <td>7</td>\n",
              "      <td>2</td>\n",
              "    </tr>\n",
              "    <tr>\n",
              "      <th>2022-05-01 15:00:00</th>\n",
              "      <td>31.0</td>\n",
              "      <td>37.7</td>\n",
              "      <td>25.0</td>\n",
              "      <td>70.47</td>\n",
              "      <td>16.6</td>\n",
              "      <td>5.4</td>\n",
              "      <td>180.0</td>\n",
              "      <td>1004.0</td>\n",
              "      <td>88.8</td>\n",
              "      <td>10.0</td>\n",
              "      <td>578</td>\n",
              "      <td>2.1</td>\n",
              "      <td>6</td>\n",
              "      <td>2</td>\n",
              "    </tr>\n",
              "    <tr>\n",
              "      <th>2022-05-01 16:00:00</th>\n",
              "      <td>28.8</td>\n",
              "      <td>32.6</td>\n",
              "      <td>23.2</td>\n",
              "      <td>71.80</td>\n",
              "      <td>42.5</td>\n",
              "      <td>20.9</td>\n",
              "      <td>172.0</td>\n",
              "      <td>1004.1</td>\n",
              "      <td>88.9</td>\n",
              "      <td>10.0</td>\n",
              "      <td>435</td>\n",
              "      <td>1.6</td>\n",
              "      <td>4</td>\n",
              "      <td>2</td>\n",
              "    </tr>\n",
              "    <tr>\n",
              "      <th>2022-05-01 17:00:00</th>\n",
              "      <td>28.0</td>\n",
              "      <td>32.7</td>\n",
              "      <td>25.0</td>\n",
              "      <td>83.79</td>\n",
              "      <td>18.0</td>\n",
              "      <td>11.2</td>\n",
              "      <td>170.0</td>\n",
              "      <td>1004.0</td>\n",
              "      <td>88.8</td>\n",
              "      <td>10.0</td>\n",
              "      <td>254</td>\n",
              "      <td>0.9</td>\n",
              "      <td>3</td>\n",
              "      <td>2</td>\n",
              "    </tr>\n",
              "    <tr>\n",
              "      <th>2022-05-01 18:00:00</th>\n",
              "      <td>28.0</td>\n",
              "      <td>32.7</td>\n",
              "      <td>25.0</td>\n",
              "      <td>83.79</td>\n",
              "      <td>22.0</td>\n",
              "      <td>7.6</td>\n",
              "      <td>170.0</td>\n",
              "      <td>1005.0</td>\n",
              "      <td>88.8</td>\n",
              "      <td>10.0</td>\n",
              "      <td>67</td>\n",
              "      <td>0.2</td>\n",
              "      <td>1</td>\n",
              "      <td>2</td>\n",
              "    </tr>\n",
              "    <tr>\n",
              "      <th>...</th>\n",
              "      <td>...</td>\n",
              "      <td>...</td>\n",
              "      <td>...</td>\n",
              "      <td>...</td>\n",
              "      <td>...</td>\n",
              "      <td>...</td>\n",
              "      <td>...</td>\n",
              "      <td>...</td>\n",
              "      <td>...</td>\n",
              "      <td>...</td>\n",
              "      <td>...</td>\n",
              "      <td>...</td>\n",
              "      <td>...</td>\n",
              "      <td>...</td>\n",
              "    </tr>\n",
              "    <tr>\n",
              "      <th>2023-12-28 05:00:00</th>\n",
              "      <td>25.6</td>\n",
              "      <td>25.6</td>\n",
              "      <td>25.0</td>\n",
              "      <td>96.54</td>\n",
              "      <td>3.6</td>\n",
              "      <td>5.2</td>\n",
              "      <td>36.0</td>\n",
              "      <td>1013.0</td>\n",
              "      <td>50.0</td>\n",
              "      <td>7.0</td>\n",
              "      <td>0</td>\n",
              "      <td>0.0</td>\n",
              "      <td>0</td>\n",
              "      <td>2</td>\n",
              "    </tr>\n",
              "    <tr>\n",
              "      <th>2023-12-28 06:00:00</th>\n",
              "      <td>25.0</td>\n",
              "      <td>25.0</td>\n",
              "      <td>25.0</td>\n",
              "      <td>100.00</td>\n",
              "      <td>4.7</td>\n",
              "      <td>4.7</td>\n",
              "      <td>50.0</td>\n",
              "      <td>1013.0</td>\n",
              "      <td>50.0</td>\n",
              "      <td>7.0</td>\n",
              "      <td>0</td>\n",
              "      <td>0.0</td>\n",
              "      <td>0</td>\n",
              "      <td>2</td>\n",
              "    </tr>\n",
              "    <tr>\n",
              "      <th>2023-12-28 07:00:00</th>\n",
              "      <td>26.4</td>\n",
              "      <td>26.4</td>\n",
              "      <td>25.3</td>\n",
              "      <td>93.62</td>\n",
              "      <td>4.7</td>\n",
              "      <td>4.9</td>\n",
              "      <td>75.2</td>\n",
              "      <td>1014.0</td>\n",
              "      <td>6.1</td>\n",
              "      <td>9.7</td>\n",
              "      <td>39</td>\n",
              "      <td>0.1</td>\n",
              "      <td>0</td>\n",
              "      <td>0</td>\n",
              "    </tr>\n",
              "    <tr>\n",
              "      <th>2023-12-28 08:00:00</th>\n",
              "      <td>27.4</td>\n",
              "      <td>32.2</td>\n",
              "      <td>26.0</td>\n",
              "      <td>92.05</td>\n",
              "      <td>4.7</td>\n",
              "      <td>5.4</td>\n",
              "      <td>42.2</td>\n",
              "      <td>1015.0</td>\n",
              "      <td>0.0</td>\n",
              "      <td>8.0</td>\n",
              "      <td>237</td>\n",
              "      <td>0.9</td>\n",
              "      <td>2</td>\n",
              "      <td>0</td>\n",
              "    </tr>\n",
              "    <tr>\n",
              "      <th>2023-12-28 09:00:00</th>\n",
              "      <td>29.4</td>\n",
              "      <td>35.2</td>\n",
              "      <td>25.0</td>\n",
              "      <td>77.22</td>\n",
              "      <td>4.0</td>\n",
              "      <td>5.9</td>\n",
              "      <td>70.0</td>\n",
              "      <td>1015.0</td>\n",
              "      <td>5.0</td>\n",
              "      <td>10.0</td>\n",
              "      <td>449</td>\n",
              "      <td>1.6</td>\n",
              "      <td>4</td>\n",
              "      <td>0</td>\n",
              "    </tr>\n",
              "  </tbody>\n",
              "</table>\n",
              "<p>14540 rows × 14 columns</p>\n",
              "</div>"
            ],
            "text/plain": [
              "                     temp  feelslike   dew  humidity  windgust  windspeed  \\\n",
              "datetime                                                                    \n",
              "2022-05-01 14:00:00  29.0       34.5  25.0     79.06      16.6        3.6   \n",
              "2022-05-01 15:00:00  31.0       37.7  25.0     70.47      16.6        5.4   \n",
              "2022-05-01 16:00:00  28.8       32.6  23.2     71.80      42.5       20.9   \n",
              "2022-05-01 17:00:00  28.0       32.7  25.0     83.79      18.0       11.2   \n",
              "2022-05-01 18:00:00  28.0       32.7  25.0     83.79      22.0        7.6   \n",
              "...                   ...        ...   ...       ...       ...        ...   \n",
              "2023-12-28 05:00:00  25.6       25.6  25.0     96.54       3.6        5.2   \n",
              "2023-12-28 06:00:00  25.0       25.0  25.0    100.00       4.7        4.7   \n",
              "2023-12-28 07:00:00  26.4       26.4  25.3     93.62       4.7        4.9   \n",
              "2023-12-28 08:00:00  27.4       32.2  26.0     92.05       4.7        5.4   \n",
              "2023-12-28 09:00:00  29.4       35.2  25.0     77.22       4.0        5.9   \n",
              "\n",
              "                     winddir  sealevelpressure  cloudcover  visibility  \\\n",
              "datetime                                                                 \n",
              "2022-05-01 14:00:00    178.4            1005.0        88.8        10.0   \n",
              "2022-05-01 15:00:00    180.0            1004.0        88.8        10.0   \n",
              "2022-05-01 16:00:00    172.0            1004.1        88.9        10.0   \n",
              "2022-05-01 17:00:00    170.0            1004.0        88.8        10.0   \n",
              "2022-05-01 18:00:00    170.0            1005.0        88.8        10.0   \n",
              "...                      ...               ...         ...         ...   \n",
              "2023-12-28 05:00:00     36.0            1013.0        50.0         7.0   \n",
              "2023-12-28 06:00:00     50.0            1013.0        50.0         7.0   \n",
              "2023-12-28 07:00:00     75.2            1014.0         6.1         9.7   \n",
              "2023-12-28 08:00:00     42.2            1015.0         0.0         8.0   \n",
              "2023-12-28 09:00:00     70.0            1015.0         5.0        10.0   \n",
              "\n",
              "                     solarradiation  solarenergy  uvindex  conditions_encoded  \n",
              "datetime                                                                       \n",
              "2022-05-01 14:00:00             708          2.5        7                   2  \n",
              "2022-05-01 15:00:00             578          2.1        6                   2  \n",
              "2022-05-01 16:00:00             435          1.6        4                   2  \n",
              "2022-05-01 17:00:00             254          0.9        3                   2  \n",
              "2022-05-01 18:00:00              67          0.2        1                   2  \n",
              "...                             ...          ...      ...                 ...  \n",
              "2023-12-28 05:00:00               0          0.0        0                   2  \n",
              "2023-12-28 06:00:00               0          0.0        0                   2  \n",
              "2023-12-28 07:00:00              39          0.1        0                   0  \n",
              "2023-12-28 08:00:00             237          0.9        2                   0  \n",
              "2023-12-28 09:00:00             449          1.6        4                   0  \n",
              "\n",
              "[14540 rows x 14 columns]"
            ]
          },
          "execution_count": 250,
          "metadata": {},
          "output_type": "execute_result"
        }
      ],
      "source": [
        "train_datal"
      ]
    },
    {
      "cell_type": "code",
      "execution_count": 251,
      "metadata": {},
      "outputs": [
        {
          "data": {
            "text/plain": [
              "14540"
            ]
          },
          "execution_count": 251,
          "metadata": {},
          "output_type": "execute_result"
        }
      ],
      "source": [
        "len(train_prediction)"
      ]
    },
    {
      "cell_type": "code",
      "execution_count": 252,
      "metadata": {},
      "outputs": [
        {
          "name": "stderr",
          "output_type": "stream",
          "text": [
            "/tmp/ipykernel_6509/3135907105.py:1: SettingWithCopyWarning: \n",
            "A value is trying to be set on a copy of a slice from a DataFrame.\n",
            "Try using .loc[row_indexer,col_indexer] = value instead\n",
            "\n",
            "See the caveats in the documentation: https://pandas.pydata.org/pandas-docs/stable/user_guide/indexing.html#returning-a-view-versus-a-copy\n",
            "  train_datal['prediction']= train_prediction\n"
          ]
        }
      ],
      "source": [
        "train_datal['prediction']= train_prediction\n"
      ]
    },
    {
      "cell_type": "code",
      "execution_count": 254,
      "metadata": {},
      "outputs": [],
      "source": [
        "train_datal\n",
        "train_datal.to_csv('moo.csv', index=False)"
      ]
    },
    {
      "cell_type": "code",
      "execution_count": 239,
      "metadata": {},
      "outputs": [
        {
          "ename": "ValueError",
          "evalue": "Length of values (14540) does not match length of index (4201)",
          "output_type": "error",
          "traceback": [
            "\u001b[0;31m---------------------------------------------------------------------------\u001b[0m",
            "\u001b[0;31mValueError\u001b[0m                                Traceback (most recent call last)",
            "Cell \u001b[0;32mIn[239], line 9\u001b[0m\n\u001b[1;32m      7\u001b[0m plt\u001b[38;5;241m.\u001b[39mfigure(figsize\u001b[38;5;241m=\u001b[39m(\u001b[38;5;241m21\u001b[39m,\u001b[38;5;241m5\u001b[39m))\n\u001b[1;32m      8\u001b[0m plot \u001b[38;5;241m=\u001b[39m df[\u001b[38;5;124m'\u001b[39m\u001b[38;5;124mconditions_encoded\u001b[39m\u001b[38;5;124m'\u001b[39m]\u001b[38;5;241m.\u001b[39mplot(label\u001b[38;5;241m=\u001b[39m\u001b[38;5;124mf\u001b[39m\u001b[38;5;124m\"\u001b[39m\u001b[38;5;124mPrices Data\u001b[39m\u001b[38;5;124m\"\u001b[39m,color\u001b[38;5;241m=\u001b[39m\u001b[38;5;124m'\u001b[39m\u001b[38;5;124mred\u001b[39m\u001b[38;5;124m'\u001b[39m)\n\u001b[0;32m----> 9\u001b[0m \u001b[43mtrain_datal\u001b[49m\u001b[43m[\u001b[49m\u001b[38;5;124;43m'\u001b[39;49m\u001b[38;5;124;43mprediction\u001b[39;49m\u001b[38;5;124;43m'\u001b[39;49m\u001b[43m]\u001b[49m\u001b[38;5;241m=\u001b[39m train_prediction\n\u001b[1;32m     10\u001b[0m plot_pdtrain \u001b[38;5;241m=\u001b[39m train_datal[\u001b[38;5;124m'\u001b[39m\u001b[38;5;124mprediction\u001b[39m\u001b[38;5;124m'\u001b[39m]\u001b[38;5;241m.\u001b[39mplot(label\u001b[38;5;241m=\u001b[39m\u001b[38;5;124mf\u001b[39m\u001b[38;5;124m\"\u001b[39m\u001b[38;5;124mPrediction train\u001b[39m\u001b[38;5;124m\"\u001b[39m, color\u001b[38;5;241m=\u001b[39m\u001b[38;5;124m'\u001b[39m\u001b[38;5;124mgreen\u001b[39m\u001b[38;5;124m'\u001b[39m)\n\u001b[1;32m     11\u001b[0m test_datal[\u001b[38;5;124m'\u001b[39m\u001b[38;5;124mprediction\u001b[39m\u001b[38;5;124m'\u001b[39m]\u001b[38;5;241m=\u001b[39my_test_predict\n",
            "File \u001b[0;32m~/.miniconda3/envs/pytorch_env/lib/python3.12/site-packages/pandas/core/frame.py:4299\u001b[0m, in \u001b[0;36mDataFrame.__setitem__\u001b[0;34m(self, key, value)\u001b[0m\n\u001b[1;32m   4296\u001b[0m     \u001b[38;5;28mself\u001b[39m\u001b[38;5;241m.\u001b[39m_setitem_array([key], value)\n\u001b[1;32m   4297\u001b[0m \u001b[38;5;28;01melse\u001b[39;00m:\n\u001b[1;32m   4298\u001b[0m     \u001b[38;5;66;03m# set column\u001b[39;00m\n\u001b[0;32m-> 4299\u001b[0m     \u001b[38;5;28;43mself\u001b[39;49m\u001b[38;5;241;43m.\u001b[39;49m\u001b[43m_set_item\u001b[49m\u001b[43m(\u001b[49m\u001b[43mkey\u001b[49m\u001b[43m,\u001b[49m\u001b[43m \u001b[49m\u001b[43mvalue\u001b[49m\u001b[43m)\u001b[49m\n",
            "File \u001b[0;32m~/.miniconda3/envs/pytorch_env/lib/python3.12/site-packages/pandas/core/frame.py:4512\u001b[0m, in \u001b[0;36mDataFrame._set_item\u001b[0;34m(self, key, value)\u001b[0m\n\u001b[1;32m   4502\u001b[0m \u001b[38;5;28;01mdef\u001b[39;00m \u001b[38;5;21m_set_item\u001b[39m(\u001b[38;5;28mself\u001b[39m, key, value) \u001b[38;5;241m-\u001b[39m\u001b[38;5;241m>\u001b[39m \u001b[38;5;28;01mNone\u001b[39;00m:\n\u001b[1;32m   4503\u001b[0m \u001b[38;5;250m    \u001b[39m\u001b[38;5;124;03m\"\"\"\u001b[39;00m\n\u001b[1;32m   4504\u001b[0m \u001b[38;5;124;03m    Add series to DataFrame in specified column.\u001b[39;00m\n\u001b[1;32m   4505\u001b[0m \n\u001b[0;32m   (...)\u001b[0m\n\u001b[1;32m   4510\u001b[0m \u001b[38;5;124;03m    ensure homogeneity.\u001b[39;00m\n\u001b[1;32m   4511\u001b[0m \u001b[38;5;124;03m    \"\"\"\u001b[39;00m\n\u001b[0;32m-> 4512\u001b[0m     value, refs \u001b[38;5;241m=\u001b[39m \u001b[38;5;28;43mself\u001b[39;49m\u001b[38;5;241;43m.\u001b[39;49m\u001b[43m_sanitize_column\u001b[49m\u001b[43m(\u001b[49m\u001b[43mvalue\u001b[49m\u001b[43m)\u001b[49m\n\u001b[1;32m   4514\u001b[0m     \u001b[38;5;28;01mif\u001b[39;00m (\n\u001b[1;32m   4515\u001b[0m         key \u001b[38;5;129;01min\u001b[39;00m \u001b[38;5;28mself\u001b[39m\u001b[38;5;241m.\u001b[39mcolumns\n\u001b[1;32m   4516\u001b[0m         \u001b[38;5;129;01mand\u001b[39;00m value\u001b[38;5;241m.\u001b[39mndim \u001b[38;5;241m==\u001b[39m \u001b[38;5;241m1\u001b[39m\n\u001b[1;32m   4517\u001b[0m         \u001b[38;5;129;01mand\u001b[39;00m \u001b[38;5;129;01mnot\u001b[39;00m \u001b[38;5;28misinstance\u001b[39m(value\u001b[38;5;241m.\u001b[39mdtype, ExtensionDtype)\n\u001b[1;32m   4518\u001b[0m     ):\n\u001b[1;32m   4519\u001b[0m         \u001b[38;5;66;03m# broadcast across multiple columns if necessary\u001b[39;00m\n\u001b[1;32m   4520\u001b[0m         \u001b[38;5;28;01mif\u001b[39;00m \u001b[38;5;129;01mnot\u001b[39;00m \u001b[38;5;28mself\u001b[39m\u001b[38;5;241m.\u001b[39mcolumns\u001b[38;5;241m.\u001b[39mis_unique \u001b[38;5;129;01mor\u001b[39;00m \u001b[38;5;28misinstance\u001b[39m(\u001b[38;5;28mself\u001b[39m\u001b[38;5;241m.\u001b[39mcolumns, MultiIndex):\n",
            "File \u001b[0;32m~/.miniconda3/envs/pytorch_env/lib/python3.12/site-packages/pandas/core/frame.py:5253\u001b[0m, in \u001b[0;36mDataFrame._sanitize_column\u001b[0;34m(self, value)\u001b[0m\n\u001b[1;32m   5250\u001b[0m     \u001b[38;5;28;01mreturn\u001b[39;00m _reindex_for_setitem(value, \u001b[38;5;28mself\u001b[39m\u001b[38;5;241m.\u001b[39mindex)\n\u001b[1;32m   5252\u001b[0m \u001b[38;5;28;01mif\u001b[39;00m is_list_like(value):\n\u001b[0;32m-> 5253\u001b[0m     \u001b[43mcom\u001b[49m\u001b[38;5;241;43m.\u001b[39;49m\u001b[43mrequire_length_match\u001b[49m\u001b[43m(\u001b[49m\u001b[43mvalue\u001b[49m\u001b[43m,\u001b[49m\u001b[43m \u001b[49m\u001b[38;5;28;43mself\u001b[39;49m\u001b[38;5;241;43m.\u001b[39;49m\u001b[43mindex\u001b[49m\u001b[43m)\u001b[49m\n\u001b[1;32m   5254\u001b[0m arr \u001b[38;5;241m=\u001b[39m sanitize_array(value, \u001b[38;5;28mself\u001b[39m\u001b[38;5;241m.\u001b[39mindex, copy\u001b[38;5;241m=\u001b[39m\u001b[38;5;28;01mTrue\u001b[39;00m, allow_2d\u001b[38;5;241m=\u001b[39m\u001b[38;5;28;01mTrue\u001b[39;00m)\n\u001b[1;32m   5255\u001b[0m \u001b[38;5;28;01mif\u001b[39;00m (\n\u001b[1;32m   5256\u001b[0m     \u001b[38;5;28misinstance\u001b[39m(value, Index)\n\u001b[1;32m   5257\u001b[0m     \u001b[38;5;129;01mand\u001b[39;00m value\u001b[38;5;241m.\u001b[39mdtype \u001b[38;5;241m==\u001b[39m \u001b[38;5;124m\"\u001b[39m\u001b[38;5;124mobject\u001b[39m\u001b[38;5;124m\"\u001b[39m\n\u001b[0;32m   (...)\u001b[0m\n\u001b[1;32m   5260\u001b[0m     \u001b[38;5;66;03m# TODO: Remove kludge in sanitize_array for string mode when enforcing\u001b[39;00m\n\u001b[1;32m   5261\u001b[0m     \u001b[38;5;66;03m# this deprecation\u001b[39;00m\n",
            "File \u001b[0;32m~/.miniconda3/envs/pytorch_env/lib/python3.12/site-packages/pandas/core/common.py:573\u001b[0m, in \u001b[0;36mrequire_length_match\u001b[0;34m(data, index)\u001b[0m\n\u001b[1;32m    569\u001b[0m \u001b[38;5;250m\u001b[39m\u001b[38;5;124;03m\"\"\"\u001b[39;00m\n\u001b[1;32m    570\u001b[0m \u001b[38;5;124;03mCheck the length of data matches the length of the index.\u001b[39;00m\n\u001b[1;32m    571\u001b[0m \u001b[38;5;124;03m\"\"\"\u001b[39;00m\n\u001b[1;32m    572\u001b[0m \u001b[38;5;28;01mif\u001b[39;00m \u001b[38;5;28mlen\u001b[39m(data) \u001b[38;5;241m!=\u001b[39m \u001b[38;5;28mlen\u001b[39m(index):\n\u001b[0;32m--> 573\u001b[0m     \u001b[38;5;28;01mraise\u001b[39;00m \u001b[38;5;167;01mValueError\u001b[39;00m(\n\u001b[1;32m    574\u001b[0m         \u001b[38;5;124m\"\u001b[39m\u001b[38;5;124mLength of values \u001b[39m\u001b[38;5;124m\"\u001b[39m\n\u001b[1;32m    575\u001b[0m         \u001b[38;5;124mf\u001b[39m\u001b[38;5;124m\"\u001b[39m\u001b[38;5;124m(\u001b[39m\u001b[38;5;132;01m{\u001b[39;00m\u001b[38;5;28mlen\u001b[39m(data)\u001b[38;5;132;01m}\u001b[39;00m\u001b[38;5;124m) \u001b[39m\u001b[38;5;124m\"\u001b[39m\n\u001b[1;32m    576\u001b[0m         \u001b[38;5;124m\"\u001b[39m\u001b[38;5;124mdoes not match length of index \u001b[39m\u001b[38;5;124m\"\u001b[39m\n\u001b[1;32m    577\u001b[0m         \u001b[38;5;124mf\u001b[39m\u001b[38;5;124m\"\u001b[39m\u001b[38;5;124m(\u001b[39m\u001b[38;5;132;01m{\u001b[39;00m\u001b[38;5;28mlen\u001b[39m(index)\u001b[38;5;132;01m}\u001b[39;00m\u001b[38;5;124m)\u001b[39m\u001b[38;5;124m\"\u001b[39m\n\u001b[1;32m    578\u001b[0m     )\n",
            "\u001b[0;31mValueError\u001b[0m: Length of values (14540) does not match length of index (4201)"
          ]
        },
        {
          "data": {
            "image/png": "[encoded data removed]",
            "text/plain": [
              "<Figure size 2100x500 with 1 Axes>"
            ]
          },
          "metadata": {},
          "output_type": "display_data"
        }
      ],
      "source": [
        "# train_datal=df[30:4231] #vẽ đường predict với dữ liệu train\n",
        "# test_datal=df[4231:] #vẽ đường  predict với dữ liệu test\n",
        "format = ticker.StrMethodFormatter('{x:,.0f}')\n",
        "title = 'Coffee Price'\n",
        "ylabel = 'Prices (VND)'\n",
        "xlabel = 'Date'\n",
        "plt.figure(figsize=(21,5))\n",
        "plot = df['conditions_encoded'].plot(label=f\"Prices Data\",color='red')\n",
        "train_datal['prediction']= train_prediction\n",
        "plot_pdtrain = train_datal['prediction'].plot(label=f\"Prediction train\", color='green')\n",
        "test_datal['prediction']=y_test_predict\n",
        "plot_pdtest = test_datal['prediction'].plot(label=f\"Prediction test\", color='blue')\n",
        "\n",
        "plot.autoscale(axis='x', tight=True)\n",
        "plot.set(xlabel=xlabel, ylabel=ylabel)\n",
        "plot.yaxis.set_major_formatter(format)\n",
        "plt.legend()\n",
        "plt.grid(True)\n",
        "plt.show()"
      ]
    },
    {
      "cell_type": "code",
      "execution_count": 159,
      "metadata": {},
      "outputs": [],
      "source": [
        "train_datal.to_csv('predict.csv', index=False)"
      ]
    },
    {
      "cell_type": "code",
      "execution_count": 157,
      "metadata": {
        "id": "3dLZFveHioAA"
      },
      "outputs": [
        {
          "name": "stdout",
          "output_type": "stream",
          "text": [
            "R_square train:  -0.21902068072291003\n",
            "MAE:  0.5887241587104299\n",
            "MAPE: 10719486304762186.00%\n",
            "MSE:  0.9583886625749154\n",
            "RMSE:  0.9789732695916245\n"
          ]
        }
      ],
      "source": [
        "#8-2 train data\n",
        "print('R_square train: ', r2_score(train_datal['conditions_encoded'],train_datal['prediction'])) #R-squared (R2)\n",
        "print('MAE: ',mean_absolute_error(train_datal['conditions_encoded'],train_datal['prediction'])) #Mean Absolute Error (MAE) đo độ lớn trung bình của các lỗi trong một tập hợp các dự đoán\n",
        "mape =  mean_absolute_percentage_error(train_datal['conditions_encoded'],train_datal['prediction']) #MAPE (Mean absolute percentage error) là phần trăm sai số trung bình tuyệt đối\n",
        "print(f\"MAPE: {mape * 100:.2f}%\")\n",
        "print('MSE: ',mean_squared_error(train_datal['conditions_encoded'],train_datal['prediction']))\n",
        "print('RMSE: ',np.sqrt(mean_squared_error(train_datal['conditions_encoded'],train_datal['prediction'])))"
      ]
    },
    {
      "cell_type": "code",
      "execution_count": null,
      "metadata": {
        "id": "9NQHxSIBi2yl"
      },
      "outputs": [],
      "source": [
        "mape_t82 = mean_absolute_percentage_error(test_datal['price_coffee'],test_datal['prediction'])\n",
        "mape_percentage = mape_t82 * 100\n",
        "print(f\"MAPE: {mape_percentage:.2f}%\")\n",
        "print('RMSE: ',np.sqrt(mean_squared_error(test_datal['price_coffee'],test_datal['prediction'])))"
      ]
    },
    {
      "cell_type": "markdown",
      "metadata": {
        "id": "JKtyuLfC8C_s"
      },
      "source": [
        "### **PREDICT 30 DAYS**"
      ]
    },
    {
      "cell_type": "code",
      "execution_count": null,
      "metadata": {
        "id": "J-qAD5IBhEu8"
      },
      "outputs": [],
      "source": [
        "sc=MinMaxScaler(feature_range=(0,1))\n",
        "sc_test=sc.fit_transform(test_data)"
      ]
    },
    {
      "cell_type": "code",
      "execution_count": null,
      "metadata": {
        "id": "G52Mw_nIfMnC"
      },
      "outputs": [],
      "source": [
        "sc_test.shape"
      ]
    },
    {
      "cell_type": "code",
      "execution_count": null,
      "metadata": {
        "id": "MR45Jzt2fZqs"
      },
      "outputs": [],
      "source": [
        "x_input = sc_test[-14:,].reshape(1, -1)\n",
        "\n",
        "x_input.shape"
      ]
    },
    {
      "cell_type": "code",
      "execution_count": null,
      "metadata": {
        "id": "GkOolCt3fd1E"
      },
      "outputs": [],
      "source": [
        "x_input"
      ]
    },
    {
      "cell_type": "code",
      "execution_count": null,
      "metadata": {
        "id": "YEaor_AvfgKl"
      },
      "outputs": [],
      "source": [
        "temp_input = list(x_input)\n",
        "temp_input = temp_input[0].tolist()\n",
        "\n",
        "print(temp_input)"
      ]
    },
    {
      "cell_type": "code",
      "execution_count": null,
      "metadata": {
        "id": "b1T1rDV1iQbo"
      },
      "outputs": [],
      "source": [
        "len(temp_input)"
      ]
    },
    {
      "cell_type": "code",
      "execution_count": null,
      "metadata": {
        "id": "EKtSyhi6f5Cv"
      },
      "outputs": [],
      "source": [
        "lst_output = []\n",
        "n_steps = 14\n",
        "i = 0\n",
        "\n",
        "while i < 30:\n",
        "    if len(temp_input) > n_steps:\n",
        "        x_input=np.array(temp_input[0:])\n",
        "        x_input = x_input.reshape((1, n_steps, 2))\n",
        "        yhat = model.predict(x_input, verbose=0)\n",
        "        temp_input.extend(yhat[0].tolist())\n",
        "        temp_input = temp_input[1:]\n",
        "        lst_output.extend(yhat.tolist())\n",
        "\n",
        "        x_input=np.array(temp_input[0:])\n",
        "        x_input = x_input.reshape((1, n_steps, 2))\n",
        "        yhat = model.predict(x_input, verbose=0)\n",
        "        temp_input.extend(yhat[0].tolist())\n",
        "        temp_input = temp_input[1:]\n",
        "        i += 1\n",
        "    else:\n",
        "        x_input = np.array(temp_input).reshape((1, n_steps, 2))\n",
        "        yhat = model.predict(x_input, verbose=0)\n",
        "\n",
        "        temp_input.extend(yhat[0].tolist())\n",
        "        lst_output.extend(yhat.tolist())\n",
        "        i += 1\n",
        "\n"
      ]
    },
    {
      "cell_type": "code",
      "execution_count": null,
      "metadata": {
        "id": "YwdXSx0Bf_hl"
      },
      "outputs": [],
      "source": [
        "lst_output"
      ]
    },
    {
      "cell_type": "code",
      "execution_count": null,
      "metadata": {
        "id": "gDGH45Zcu57_"
      },
      "outputs": [],
      "source": [
        "day_new=np.arange(1,15)\n",
        "day_pred=np.arange(15,45)"
      ]
    },
    {
      "cell_type": "code",
      "execution_count": null,
      "metadata": {
        "id": "duRk7gYqw0om"
      },
      "outputs": [],
      "source": [
        "y_train_predict = np.repeat(lst_output, train_data.shape[1], axis=-1)\n",
        "y_train_predict_inv=sc.inverse_transform(y_train_predict)"
      ]
    },
    {
      "cell_type": "code",
      "execution_count": null,
      "metadata": {
        "id": "Jj0MEBArxLIL"
      },
      "outputs": [],
      "source": [
        "y_train_predict_inv"
      ]
    },
    {
      "cell_type": "code",
      "execution_count": null,
      "metadata": {
        "id": "B1xHrgDaxS29"
      },
      "outputs": [],
      "source": [
        "y_train_predict_inv = y_train_predict_inv[:, :-1]\n",
        "y_train_predict_inv"
      ]
    },
    {
      "cell_type": "code",
      "execution_count": null,
      "metadata": {
        "id": "DFKDlGPjxmSd"
      },
      "outputs": [],
      "source": [
        "test_data = test_data[(len(test_data)-14):]"
      ]
    },
    {
      "cell_type": "code",
      "execution_count": null,
      "metadata": {
        "id": "MfjRJhgJxuEJ"
      },
      "outputs": [],
      "source": [
        "test_data"
      ]
    },
    {
      "cell_type": "code",
      "execution_count": null,
      "metadata": {
        "id": "oecjxLyfxz4T"
      },
      "outputs": [],
      "source": [
        "test_data = test_data[:, :-1]"
      ]
    },
    {
      "cell_type": "code",
      "execution_count": null,
      "metadata": {
        "id": "srUNtUxPQcme"
      },
      "outputs": [],
      "source": [
        "pre_predict = test_data[(len(test_data)-14):]"
      ]
    },
    {
      "cell_type": "code",
      "execution_count": null,
      "metadata": {
        "id": "yA7aebH9UYNu"
      },
      "outputs": [],
      "source": [
        "pre_predict = test_datal[(len(test_datal)-14):]"
      ]
    },
    {
      "cell_type": "code",
      "execution_count": null,
      "metadata": {
        "id": "ZOoRwK40RIay"
      },
      "outputs": [],
      "source": [
        "pre_predict"
      ]
    },
    {
      "cell_type": "code",
      "execution_count": null,
      "metadata": {
        "id": "ucIXu--PWLr3"
      },
      "outputs": [],
      "source": [
        "pre_predict.to_csv('pre_predict.csv', index=False)"
      ]
    },
    {
      "cell_type": "code",
      "execution_count": null,
      "metadata": {
        "id": "Zu22jki9Rl-i"
      },
      "outputs": [],
      "source": [
        "pre_predict_df = pd.DataFrame(pre_predict, columns=['price_coffee_pre'])\n",
        "pre_predict_df"
      ]
    },
    {
      "cell_type": "code",
      "execution_count": null,
      "metadata": {
        "id": "nf6tOP3UQijg"
      },
      "outputs": [],
      "source": [
        "# test_check.reset_index(inplace=True)\n",
        "pre_predict_df.to_csv('pre_predict.csv', index=False)"
      ]
    },
    {
      "cell_type": "code",
      "execution_count": null,
      "metadata": {
        "id": "Db8EbvLWQf20"
      },
      "outputs": [],
      "source": [
        "predict_df = pd.DataFrame(y_train_predict_inv, columns=['price_coffee_pre'])\n",
        "predict_df"
      ]
    },
    {
      "cell_type": "code",
      "execution_count": null,
      "metadata": {
        "id": "Dg9eyW-0Vf8T"
      },
      "outputs": [],
      "source": [
        "import pandas as pd\n",
        "\n",
        "# Get the latest date from the existing DataFrame\n",
        "latest_date = pre_predict['Date'].max()\n",
        "\n",
        "# Generate a range of business dates starting from the day after the latest date\n",
        "dates = pd.date_range(start=latest_date + pd.DateOffset(days=1), periods=len(predict_df), freq='B')\n",
        "\n",
        "# Assign the dates to the 'Date' column of pre_predict DataFrame\n",
        "predict_df['Date'] = dates\n",
        "predict_df = predict_df[['Date', 'price_coffee_pre']]\n"
      ]
    },
    {
      "cell_type": "code",
      "execution_count": null,
      "metadata": {
        "id": "z1n5EuHXV7tv"
      },
      "outputs": [],
      "source": [
        "predict_df"
      ]
    },
    {
      "cell_type": "code",
      "execution_count": null,
      "metadata": {
        "id": "ziWE8_W3Vuow"
      },
      "outputs": [],
      "source": [
        "predict_df = predict_df[['Date', 'price_coffee_pre']]\n"
      ]
    },
    {
      "cell_type": "code",
      "execution_count": null,
      "metadata": {
        "id": "7t-oTSWER5os"
      },
      "outputs": [],
      "source": [
        "predict_df.to_csv('predict.csv', index=False)"
      ]
    },
    {
      "cell_type": "code",
      "execution_count": null,
      "metadata": {
        "id": "YXCaJpvGxWYw"
      },
      "outputs": [],
      "source": [
        "plt.plot(day_new,test_data[(len(test_data)-14):])\n",
        "plt.plot(day_pred, y_train_predict_inv)"
      ]
    },
    {
      "cell_type": "code",
      "execution_count": null,
      "metadata": {
        "id": "jyVGcvtSyuIO"
      },
      "outputs": [],
      "source": [
        "df_check = data[training_data_len:]\n"
      ]
    },
    {
      "cell_type": "code",
      "execution_count": null,
      "metadata": {
        "id": "Yivunw_Ux6zh"
      },
      "outputs": [],
      "source": [
        "df_new=df_check.tolist()\n",
        "df_new.extend(y_train_predict_inv)\n",
        "plt.figure(figsize=(14,5))\n",
        "plt.plot(df_new)"
      ]
    },
    {
      "cell_type": "code",
      "execution_count": null,
      "metadata": {
        "id": "pyKKUv400_Ic"
      },
      "outputs": [],
      "source": [
        "print(\"Nhập ngày thứ x ban muốn xem kết quả:\")\n",
        "x=int(input())\n",
        "print(\"Bạn nhập ngày thứ:\",x)\n",
        "if x <=0 or x >30:\n",
        "  print(\"Không có kết quả\")\n",
        "else:\n",
        "  result = y_train_predict_inv[x-1]\n",
        "  print(\"Kết quả là: \",result)"
      ]
    },
    {
      "cell_type": "code",
      "execution_count": 1,
      "metadata": {},
      "outputs": [
        {
          "data": {
            "image/png": "[encoded data removed]",
            "text/plain": [
              "<Figure size 640x480 with 1 Axes>"
            ]
          },
          "metadata": {},
          "output_type": "display_data"
        }
      ],
      "source": [
        "import matplotlib.pyplot as plt\n",
        "\n",
        "# Data\n",
        "x = [1, 2, 3, 4]\n",
        "seasons = ['Xuan', 'Ha', 'Thu', 'Dong']  # Labels for the y-axis\n",
        "\n",
        "# Plot\n",
        "plt.plot(x, seasons, 'bo', markersize=10)  # 'bo' for blue dots, markersize sets the size of the dots\n",
        "\n",
        "# Label axes\n",
        "plt.xlabel('X-axis')\n",
        "plt.ylabel('Season')\n",
        "\n",
        "# Title\n",
        "plt.title('Dot Plot for Seasons')\n",
        "\n",
        "# Show plot\n",
        "plt.show()\n"
      ]
    },
    {
      "cell_type": "code",
      "execution_count": null,
      "metadata": {},
      "outputs": [],
      "source": []
    }
  ],
  "metadata": {
    "accelerator": "GPU",
    "colab": {
      "provenance": []
    },
    "kernelspec": {
      "display_name": "Python 3",
      "name": "python3"
    },
    "language_info": {
      "codemirror_mode": {
        "name": "ipython",
        "version": 3
      },
      "file_extension": ".py",
      "mimetype": "text/x-python",
      "name": "python",
      "nbconvert_exporter": "python",
      "pygments_lexer": "ipython3",
      "version": "3.12.3"
    }
  },
  "nbformat": 4,
  "nbformat_minor": 0
}
